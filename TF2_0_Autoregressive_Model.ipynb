{
  "nbformat": 4,
  "nbformat_minor": 0,
  "metadata": {
    "colab": {
      "name": "TF2.0 Autoregressive Model.ipynb",
      "provenance": [],
      "authorship_tag": "ABX9TyO6lcK9UqJI3HNK1JuUeimJ",
      "include_colab_link": true
    },
    "kernelspec": {
      "name": "python3",
      "display_name": "Python 3"
    },
    "language_info": {
      "name": "python"
    }
  },
  "cells": [
    {
      "cell_type": "markdown",
      "metadata": {
        "id": "view-in-github",
        "colab_type": "text"
      },
      "source": [
        "<a href=\"https://colab.research.google.com/github/cz101/ML-TF/blob/main/TF2_0_Autoregressive_Model.ipynb\" target=\"_parent\"><img src=\"https://colab.research.google.com/assets/colab-badge.svg\" alt=\"Open In Colab\"/></a>"
      ]
    },
    {
      "cell_type": "code",
      "execution_count": 1,
      "metadata": {
        "colab": {
          "base_uri": "https://localhost:8080/"
        },
        "id": "3j91o1hjgSUg",
        "outputId": "9a9cef06-3f3d-4820-82e6-2596c60cbbae"
      },
      "outputs": [
        {
          "output_type": "stream",
          "name": "stdout",
          "text": [
            "2.8.2\n"
          ]
        }
      ],
      "source": [
        "import tensorflow as tf \n",
        "print(tf.__version__)"
      ]
    },
    {
      "cell_type": "code",
      "source": [
        "import numpy as np\n",
        "import pandas as pd\n",
        "import matplotlib.pyplot as plt\n",
        "from tensorflow.keras.layers import  Input, Dense\n",
        "from tensorflow.keras.models import Model\n",
        "from tensorflow.keras.optimizers import SGD, Adam"
      ],
      "metadata": {
        "id": "EmE1a6A9r47X"
      },
      "execution_count": 2,
      "outputs": []
    },
    {
      "cell_type": "code",
      "source": [
        "series = np.sin(0.1*np.arange(200))\n",
        "plt.plot(series)\n",
        "plt.show()"
      ],
      "metadata": {
        "colab": {
          "base_uri": "https://localhost:8080/",
          "height": 265
        },
        "id": "CBtmCU1GhHsh",
        "outputId": "3cecfadd-7869-420b-f50e-2d74fe6bda36"
      },
      "execution_count": 3,
      "outputs": [
        {
          "output_type": "display_data",
          "data": {
            "text/plain": [
              "<Figure size 432x288 with 1 Axes>"
            ],
            "image/png": "[encoded data removed]"
          },
          "metadata": {
            "needs_background": "light"
          }
        }
      ]
    },
    {
      "cell_type": "code",
      "source": [
        "T=10\n",
        "X= []\n",
        "Y= []\n",
        "\n",
        "for t in range (len(series)-T):\n",
        "  x = series [t:t+T]\n",
        "  X.append(x)\n",
        "  y = series [t+T]\n",
        "  Y.append(y)\n",
        "X = np.array(X).reshape(-1,T)\n",
        "Y = np.array(Y)\n",
        "N = len(X)\n",
        "\n",
        "print(\"X shape\", X.shape, \"Y shape\", Y.shape)"
      ],
      "metadata": {
        "id": "3jmNq5Z_iS8g",
        "colab": {
          "base_uri": "https://localhost:8080/"
        },
        "outputId": "b233b667-fb37-45a6-922b-356cca8cc2e3"
      },
      "execution_count": 7,
      "outputs": [
        {
          "output_type": "stream",
          "name": "stdout",
          "text": [
            "X shape (190, 10) Y shape (190,)\n"
          ]
        }
      ]
    },
    {
      "cell_type": "code",
      "source": [
        "#built the autogregressive liner model\n",
        "i= Input(shape=(T,))\n",
        "x= Dense(1)(i)\n",
        "model = Model(i,x)\n",
        "model.compile(\n",
        "    loss = 'mse',\n",
        "    optimizer= Adam(lr=0.1),\n",
        ")\n",
        "r= model.fit(\n",
        "    X[: -N//2],Y[: -N//2],\n",
        "    epochs=80,\n",
        "    validation_data=(X[-N//2:],Y[-N//2:])\n",
        ")"
      ],
      "metadata": {
        "colab": {
          "base_uri": "https://localhost:8080/"
        },
        "id": "XjnGQLaMs9QI",
        "outputId": "872c6472-e0c0-4c75-c70a-3f5e43c26039"
      },
      "execution_count": 9,
      "outputs": [
        {
          "output_type": "stream",
          "name": "stdout",
          "text": [
            "Epoch 1/80\n"
          ]
        },
        {
          "output_type": "stream",
          "name": "stderr",
          "text": [
            "/usr/local/lib/python3.7/dist-packages/keras/optimizer_v2/adam.py:105: UserWarning: The `lr` argument is deprecated, use `learning_rate` instead.\n",
            "  super(Adam, self).__init__(name, **kwargs)\n"
          ]
        },
        {
          "output_type": "stream",
          "name": "stdout",
          "text": [
            "3/3 [==============================] - 0s 59ms/step - loss: 0.7043 - val_loss: 0.1844\n",
            "Epoch 2/80\n",
            "3/3 [==============================] - 0s 12ms/step - loss: 0.4597 - val_loss: 0.3154\n",
            "Epoch 3/80\n",
            "3/3 [==============================] - 0s 10ms/step - loss: 0.1618 - val_loss: 0.0453\n",
            "Epoch 4/80\n",
            "3/3 [==============================] - 0s 12ms/step - loss: 0.1403 - val_loss: 0.1649\n",
            "Epoch 5/80\n",
            "3/3 [==============================] - 0s 12ms/step - loss: 0.1847 - val_loss: 0.0228\n",
            "Epoch 6/80\n",
            "3/3 [==============================] - 0s 12ms/step - loss: 0.0230 - val_loss: 0.0727\n",
            "Epoch 7/80\n",
            "3/3 [==============================] - 0s 12ms/step - loss: 0.0939 - val_loss: 0.0528\n",
            "Epoch 8/80\n",
            "3/3 [==============================] - 0s 11ms/step - loss: 0.0372 - val_loss: 0.0127\n",
            "Epoch 9/80\n",
            "3/3 [==============================] - 0s 12ms/step - loss: 0.0262 - val_loss: 0.0653\n",
            "Epoch 10/80\n",
            "3/3 [==============================] - 0s 12ms/step - loss: 0.0409 - val_loss: 0.0122\n",
            "Epoch 11/80\n",
            "3/3 [==============================] - 0s 16ms/step - loss: 0.0047 - val_loss: 0.0127\n",
            "Epoch 12/80\n",
            "3/3 [==============================] - 0s 12ms/step - loss: 0.0199 - val_loss: 0.0147\n",
            "Epoch 13/80\n",
            "3/3 [==============================] - 0s 12ms/step - loss: 0.0064 - val_loss: 0.0020\n",
            "Epoch 14/80\n",
            "3/3 [==============================] - 0s 11ms/step - loss: 0.0077 - val_loss: 0.0066\n",
            "Epoch 15/80\n",
            "3/3 [==============================] - 0s 12ms/step - loss: 0.0061 - val_loss: 1.1808e-04\n",
            "Epoch 16/80\n",
            "3/3 [==============================] - 0s 12ms/step - loss: 0.0017 - val_loss: 0.0042\n",
            "Epoch 17/80\n",
            "3/3 [==============================] - 0s 11ms/step - loss: 0.0045 - val_loss: 4.5070e-04\n",
            "Epoch 18/80\n",
            "3/3 [==============================] - 0s 10ms/step - loss: 8.4246e-04 - val_loss: 0.0033\n",
            "Epoch 19/80\n",
            "3/3 [==============================] - 0s 10ms/step - loss: 0.0024 - val_loss: 7.1290e-04\n",
            "Epoch 20/80\n",
            "3/3 [==============================] - 0s 12ms/step - loss: 3.2441e-04 - val_loss: 9.2211e-04\n",
            "Epoch 21/80\n",
            "3/3 [==============================] - 0s 22ms/step - loss: 0.0011 - val_loss: 7.2141e-04\n",
            "Epoch 22/80\n",
            "3/3 [==============================] - 0s 14ms/step - loss: 2.7674e-04 - val_loss: 2.7511e-04\n",
            "Epoch 23/80\n",
            "3/3 [==============================] - 0s 10ms/step - loss: 5.2411e-04 - val_loss: 1.7515e-04\n",
            "Epoch 24/80\n",
            "3/3 [==============================] - 0s 20ms/step - loss: 1.2151e-04 - val_loss: 1.7248e-04\n",
            "Epoch 25/80\n",
            "3/3 [==============================] - 0s 11ms/step - loss: 3.4607e-04 - val_loss: 9.4660e-05\n",
            "Epoch 26/80\n",
            "3/3 [==============================] - 0s 12ms/step - loss: 9.8969e-05 - val_loss: 2.1990e-04\n",
            "Epoch 27/80\n",
            "3/3 [==============================] - 0s 11ms/step - loss: 1.7913e-04 - val_loss: 4.5529e-05\n",
            "Epoch 28/80\n",
            "3/3 [==============================] - 0s 10ms/step - loss: 2.4161e-05 - val_loss: 1.1275e-04\n",
            "Epoch 29/80\n",
            "3/3 [==============================] - 0s 10ms/step - loss: 1.0450e-04 - val_loss: 5.4152e-05\n",
            "Epoch 30/80\n",
            "3/3 [==============================] - 0s 10ms/step - loss: 2.2938e-05 - val_loss: 4.1716e-05\n",
            "Epoch 31/80\n",
            "3/3 [==============================] - 0s 11ms/step - loss: 5.4123e-05 - val_loss: 6.0388e-06\n",
            "Epoch 32/80\n",
            "3/3 [==============================] - 0s 12ms/step - loss: 1.0730e-05 - val_loss: 2.2009e-05\n",
            "Epoch 33/80\n",
            "3/3 [==============================] - 0s 10ms/step - loss: 2.8224e-05 - val_loss: 5.3342e-06\n",
            "Epoch 34/80\n",
            "3/3 [==============================] - 0s 20ms/step - loss: 1.1384e-05 - val_loss: 2.0122e-05\n",
            "Epoch 35/80\n",
            "3/3 [==============================] - 0s 11ms/step - loss: 1.1439e-05 - val_loss: 3.9763e-06\n",
            "Epoch 36/80\n",
            "3/3 [==============================] - 0s 11ms/step - loss: 9.0782e-06 - val_loss: 1.6948e-05\n",
            "Epoch 37/80\n",
            "3/3 [==============================] - 0s 11ms/step - loss: 5.7767e-06 - val_loss: 1.6485e-06\n",
            "Epoch 38/80\n",
            "3/3 [==============================] - 0s 11ms/step - loss: 4.8424e-06 - val_loss: 3.6949e-06\n",
            "Epoch 39/80\n",
            "3/3 [==============================] - 0s 11ms/step - loss: 1.7158e-06 - val_loss: 1.9880e-06\n",
            "Epoch 40/80\n",
            "3/3 [==============================] - 0s 11ms/step - loss: 3.7366e-06 - val_loss: 8.6486e-07\n",
            "Epoch 41/80\n",
            "3/3 [==============================] - 0s 13ms/step - loss: 9.7650e-07 - val_loss: 2.0524e-06\n",
            "Epoch 42/80\n",
            "3/3 [==============================] - 0s 13ms/step - loss: 1.4133e-06 - val_loss: 2.8933e-07\n",
            "Epoch 43/80\n",
            "3/3 [==============================] - 0s 12ms/step - loss: 6.6073e-07 - val_loss: 1.3354e-06\n",
            "Epoch 44/80\n",
            "3/3 [==============================] - 0s 12ms/step - loss: 4.9350e-07 - val_loss: 1.8534e-07\n",
            "Epoch 45/80\n",
            "3/3 [==============================] - 0s 11ms/step - loss: 4.8357e-07 - val_loss: 1.9938e-07\n",
            "Epoch 46/80\n",
            "3/3 [==============================] - 0s 12ms/step - loss: 1.6667e-07 - val_loss: 2.5611e-07\n",
            "Epoch 47/80\n",
            "3/3 [==============================] - 0s 11ms/step - loss: 3.2095e-07 - val_loss: 4.1284e-08\n",
            "Epoch 48/80\n",
            "3/3 [==============================] - 0s 11ms/step - loss: 1.0647e-07 - val_loss: 1.3790e-07\n",
            "Epoch 49/80\n",
            "3/3 [==============================] - 0s 11ms/step - loss: 8.2913e-08 - val_loss: 1.1969e-07\n",
            "Epoch 50/80\n",
            "3/3 [==============================] - 0s 12ms/step - loss: 1.1197e-07 - val_loss: 6.4118e-08\n",
            "Epoch 51/80\n",
            "3/3 [==============================] - 0s 12ms/step - loss: 3.2164e-08 - val_loss: 7.0485e-08\n",
            "Epoch 52/80\n",
            "3/3 [==============================] - 0s 15ms/step - loss: 5.4674e-08 - val_loss: 1.0646e-08\n",
            "Epoch 53/80\n",
            "3/3 [==============================] - 0s 12ms/step - loss: 3.3809e-08 - val_loss: 2.5533e-08\n",
            "Epoch 54/80\n",
            "3/3 [==============================] - 0s 20ms/step - loss: 1.8623e-08 - val_loss: 1.6974e-08\n",
            "Epoch 55/80\n",
            "3/3 [==============================] - 0s 11ms/step - loss: 2.0757e-08 - val_loss: 3.9325e-09\n",
            "Epoch 56/80\n",
            "3/3 [==============================] - 0s 10ms/step - loss: 8.6303e-09 - val_loss: 2.5460e-08\n",
            "Epoch 57/80\n",
            "3/3 [==============================] - 0s 10ms/step - loss: 9.6125e-09 - val_loss: 1.7757e-09\n",
            "Epoch 58/80\n",
            "3/3 [==============================] - 0s 13ms/step - loss: 6.9089e-09 - val_loss: 6.3987e-09\n",
            "Epoch 59/80\n",
            "3/3 [==============================] - 0s 10ms/step - loss: 3.4086e-09 - val_loss: 4.0555e-09\n",
            "Epoch 60/80\n",
            "3/3 [==============================] - 0s 12ms/step - loss: 4.8826e-09 - val_loss: 3.5517e-10\n",
            "Epoch 61/80\n",
            "3/3 [==============================] - 0s 11ms/step - loss: 1.5808e-09 - val_loss: 1.9415e-09\n",
            "Epoch 62/80\n",
            "3/3 [==============================] - 0s 12ms/step - loss: 1.6206e-09 - val_loss: 3.6236e-09\n",
            "Epoch 63/80\n",
            "3/3 [==============================] - 0s 20ms/step - loss: 2.6265e-09 - val_loss: 4.2375e-10\n",
            "Epoch 64/80\n",
            "3/3 [==============================] - 0s 11ms/step - loss: 8.0479e-10 - val_loss: 1.7982e-09\n",
            "Epoch 65/80\n",
            "3/3 [==============================] - 0s 12ms/step - loss: 8.1746e-10 - val_loss: 6.5212e-10\n",
            "Epoch 66/80\n",
            "3/3 [==============================] - 0s 12ms/step - loss: 1.0565e-09 - val_loss: 8.3468e-11\n",
            "Epoch 67/80\n",
            "3/3 [==============================] - 0s 14ms/step - loss: 2.7340e-10 - val_loss: 3.9981e-10\n",
            "Epoch 68/80\n",
            "3/3 [==============================] - 0s 11ms/step - loss: 3.3553e-10 - val_loss: 5.4478e-10\n",
            "Epoch 69/80\n",
            "3/3 [==============================] - 0s 11ms/step - loss: 4.3549e-10 - val_loss: 1.5602e-10\n",
            "Epoch 70/80\n",
            "3/3 [==============================] - 0s 10ms/step - loss: 1.1955e-10 - val_loss: 4.7442e-10\n",
            "Epoch 71/80\n",
            "3/3 [==============================] - 0s 11ms/step - loss: 2.6030e-10 - val_loss: 9.1721e-11\n",
            "Epoch 72/80\n",
            "3/3 [==============================] - 0s 11ms/step - loss: 2.2894e-10 - val_loss: 2.0260e-11\n",
            "Epoch 73/80\n",
            "3/3 [==============================] - 0s 10ms/step - loss: 6.0054e-11 - val_loss: 9.9518e-11\n",
            "Epoch 74/80\n",
            "3/3 [==============================] - 0s 12ms/step - loss: 9.3846e-11 - val_loss: 1.3258e-10\n",
            "Epoch 75/80\n",
            "3/3 [==============================] - 0s 14ms/step - loss: 1.0338e-10 - val_loss: 1.0336e-11\n",
            "Epoch 76/80\n",
            "3/3 [==============================] - 0s 12ms/step - loss: 2.9624e-11 - val_loss: 9.2499e-11\n",
            "Epoch 77/80\n",
            "3/3 [==============================] - 0s 11ms/step - loss: 3.5842e-11 - val_loss: 2.4156e-11\n",
            "Epoch 78/80\n",
            "3/3 [==============================] - 0s 11ms/step - loss: 4.2532e-11 - val_loss: 7.5728e-14\n",
            "Epoch 79/80\n",
            "3/3 [==============================] - 0s 15ms/step - loss: 1.7864e-11 - val_loss: 1.6903e-11\n",
            "Epoch 80/80\n",
            "3/3 [==============================] - 0s 11ms/step - loss: 1.6519e-11 - val_loss: 3.5033e-11\n"
          ]
        }
      ]
    },
    {
      "cell_type": "code",
      "source": [
        "import matplotlib.pyplot as plt\n",
        "plt.plot(r.history['loss'], label = 'loss')\n",
        "plt.plot(r.history['val_loss'],label='val_loss')\n",
        "plt.legend()"
      ],
      "metadata": {
        "colab": {
          "base_uri": "https://localhost:8080/",
          "height": 282
        },
        "id": "ej_MDqp4w43Y",
        "outputId": "0685c1ca-0d31-437f-8e6c-ae0696f882d0"
      },
      "execution_count": 10,
      "outputs": [
        {
          "output_type": "execute_result",
          "data": {
            "text/plain": [
              "<matplotlib.legend.Legend at 0x7fc615d25a90>"
            ]
          },
          "metadata": {},
          "execution_count": 10
        },
        {
          "output_type": "display_data",
          "data": {
            "text/plain": [
              "<Figure size 432x288 with 1 Axes>"
            ],
            "image/png": "[encoded data removed]"
          },
          "metadata": {
            "needs_background": "light"
          }
        }
      ]
    }
  ]
}