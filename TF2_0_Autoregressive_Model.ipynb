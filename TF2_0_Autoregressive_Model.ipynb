{
  "nbformat": 4,
  "nbformat_minor": 0,
  "metadata": {
    "colab": {
      "name": "TF2.0 Autoregressive Model.ipynb",
      "provenance": [],
      "authorship_tag": "ABX9TyO+S7caTq+EuXYFyJDwCuxb",
      "include_colab_link": true
    },
    "kernelspec": {
      "name": "python3",
      "display_name": "Python 3"
    },
    "language_info": {
      "name": "python"
    }
  },
  "cells": [
    {
      "cell_type": "markdown",
      "metadata": {
        "id": "view-in-github",
        "colab_type": "text"
      },
      "source": [
        "<a href=\"https://colab.research.google.com/github/cz101/ML-TF/blob/main/TF2_0_Autoregressive_Model.ipynb\" target=\"_parent\"><img src=\"https://colab.research.google.com/assets/colab-badge.svg\" alt=\"Open In Colab\"/></a>"
      ]
    },
    {
      "cell_type": "code",
      "execution_count": 1,
      "metadata": {
        "colab": {
          "base_uri": "https://localhost:8080/"
        },
        "id": "3j91o1hjgSUg",
        "outputId": "9a9cef06-3f3d-4820-82e6-2596c60cbbae"
      },
      "outputs": [
        {
          "output_type": "stream",
          "name": "stdout",
          "text": [
            "2.8.2\n"
          ]
        }
      ],
      "source": [
        "import tensorflow as tf \n",
        "print(tf.__version__)"
      ]
    },
    {
      "cell_type": "code",
      "source": [
        "import numpy as np\n",
        "import pandas as pd\n",
        "import matplotlib.pyplot as plt\n",
        "from tensorflow.keras.layers import  Input, Dense\n",
        "from tensorflow.keras.models import Model\n",
        "from tensorflow.keras.optimizers import SGD, Adam"
      ],
      "metadata": {
        "id": "EmE1a6A9r47X"
      },
      "execution_count": 2,
      "outputs": []
    },
    {
      "cell_type": "code",
      "source": [
        "# np.random.randn(200)*1  is noise we add\n",
        "series = np.sin(0.1*np.arange(200)) +np.random.randn(200)*0.1 \n",
        "plt.plot(series)\n",
        "plt.show()"
      ],
      "metadata": {
        "colab": {
          "base_uri": "https://localhost:8080/",
          "height": 265
        },
        "id": "CBtmCU1GhHsh",
        "outputId": "82a00542-ece8-40c0-d738-c9fb603e0f0b"
      },
      "execution_count": 15,
      "outputs": [
        {
          "output_type": "display_data",
          "data": {
            "text/plain": [
              "<Figure size 432x288 with 1 Axes>"
            ],
            "image/png": "[encoded data removed]"
          },
          "metadata": {
            "needs_background": "light"
          }
        }
      ]
    },
    {
      "cell_type": "code",
      "source": [
        "T=10\n",
        "X= []\n",
        "Y= []\n",
        "\n",
        "for t in range (len(series)-T):\n",
        "  x = series [t:t+T]\n",
        "  X.append(x)\n",
        "  y = series [t+T]\n",
        "  Y.append(y)\n",
        "X = np.array(X).reshape(-1,T)\n",
        "Y = np.array(Y)\n",
        "N = len(X)\n",
        "\n",
        "print(\"X shape\", X.shape, \"Y shape\", Y.shape)"
      ],
      "metadata": {
        "id": "3jmNq5Z_iS8g",
        "colab": {
          "base_uri": "https://localhost:8080/"
        },
        "outputId": "ffc4420e-4da0-48d4-a407-9fe38c5570ea"
      },
      "execution_count": 16,
      "outputs": [
        {
          "output_type": "stream",
          "name": "stdout",
          "text": [
            "X shape (190, 10) Y shape (190,)\n"
          ]
        }
      ]
    },
    {
      "cell_type": "code",
      "source": [
        "#built the autogregressive liner model\n",
        "i= Input(shape=(T,))\n",
        "x= Dense(1)(i)\n",
        "model = Model(i,x)\n",
        "model.compile(\n",
        "    loss = 'mse',\n",
        "    optimizer= Adam(lr=0.1),\n",
        ")\n",
        "r= model.fit(\n",
        "    X[: -N//2],Y[: -N//2],\n",
        "    epochs=80,\n",
        "    validation_data=(X[-N//2:],Y[-N//2:])\n",
        ")"
      ],
      "metadata": {
        "colab": {
          "base_uri": "https://localhost:8080/"
        },
        "id": "XjnGQLaMs9QI",
        "outputId": "ad17c147-1c3d-47da-b06e-9ea010302803"
      },
      "execution_count": 17,
      "outputs": [
        {
          "output_type": "stream",
          "name": "stdout",
          "text": [
            "Epoch 1/80\n"
          ]
        },
        {
          "output_type": "stream",
          "name": "stderr",
          "text": [
            "/usr/local/lib/python3.7/dist-packages/keras/optimizer_v2/adam.py:105: UserWarning: The `lr` argument is deprecated, use `learning_rate` instead.\n",
            "  super(Adam, self).__init__(name, **kwargs)\n"
          ]
        },
        {
          "output_type": "stream",
          "name": "stdout",
          "text": [
            "3/3 [==============================] - 0s 66ms/step - loss: 1.8546 - val_loss: 0.3741\n",
            "Epoch 2/80\n",
            "3/3 [==============================] - 0s 15ms/step - loss: 0.7057 - val_loss: 1.0553\n",
            "Epoch 3/80\n",
            "3/3 [==============================] - 0s 15ms/step - loss: 0.8057 - val_loss: 0.5572\n",
            "Epoch 4/80\n",
            "3/3 [==============================] - 0s 14ms/step - loss: 0.2827 - val_loss: 0.2656\n",
            "Epoch 5/80\n",
            "3/3 [==============================] - 0s 15ms/step - loss: 0.3308 - val_loss: 0.2562\n",
            "Epoch 6/80\n",
            "3/3 [==============================] - 0s 16ms/step - loss: 0.2717 - val_loss: 0.0711\n",
            "Epoch 7/80\n",
            "3/3 [==============================] - 0s 15ms/step - loss: 0.0583 - val_loss: 0.0524\n",
            "Epoch 8/80\n",
            "3/3 [==============================] - 0s 14ms/step - loss: 0.1241 - val_loss: 0.0941\n",
            "Epoch 9/80\n",
            "3/3 [==============================] - 0s 24ms/step - loss: 0.1244 - val_loss: 0.0467\n",
            "Epoch 10/80\n",
            "3/3 [==============================] - 0s 25ms/step - loss: 0.0505 - val_loss: 0.0773\n",
            "Epoch 11/80\n",
            "3/3 [==============================] - 0s 24ms/step - loss: 0.0749 - val_loss: 0.0691\n",
            "Epoch 12/80\n",
            "3/3 [==============================] - 0s 16ms/step - loss: 0.0633 - val_loss: 0.0317\n",
            "Epoch 13/80\n",
            "3/3 [==============================] - 0s 27ms/step - loss: 0.0466 - val_loss: 0.0467\n",
            "Epoch 14/80\n",
            "3/3 [==============================] - 0s 15ms/step - loss: 0.0546 - val_loss: 0.0389\n",
            "Epoch 15/80\n",
            "3/3 [==============================] - 0s 22ms/step - loss: 0.0413 - val_loss: 0.0259\n",
            "Epoch 16/80\n",
            "3/3 [==============================] - 0s 14ms/step - loss: 0.0375 - val_loss: 0.0281\n",
            "Epoch 17/80\n",
            "3/3 [==============================] - 0s 19ms/step - loss: 0.0384 - val_loss: 0.0246\n",
            "Epoch 18/80\n",
            "3/3 [==============================] - 0s 15ms/step - loss: 0.0331 - val_loss: 0.0229\n",
            "Epoch 19/80\n",
            "3/3 [==============================] - 0s 16ms/step - loss: 0.0342 - val_loss: 0.0229\n",
            "Epoch 20/80\n",
            "3/3 [==============================] - 0s 25ms/step - loss: 0.0331 - val_loss: 0.0214\n",
            "Epoch 21/80\n",
            "3/3 [==============================] - 0s 15ms/step - loss: 0.0306 - val_loss: 0.0217\n",
            "Epoch 22/80\n",
            "3/3 [==============================] - 0s 19ms/step - loss: 0.0316 - val_loss: 0.0216\n",
            "Epoch 23/80\n",
            "3/3 [==============================] - 0s 16ms/step - loss: 0.0312 - val_loss: 0.0212\n",
            "Epoch 24/80\n",
            "3/3 [==============================] - 0s 15ms/step - loss: 0.0301 - val_loss: 0.0205\n",
            "Epoch 25/80\n",
            "3/3 [==============================] - 0s 25ms/step - loss: 0.0294 - val_loss: 0.0198\n",
            "Epoch 26/80\n",
            "3/3 [==============================] - 0s 15ms/step - loss: 0.0288 - val_loss: 0.0197\n",
            "Epoch 27/80\n",
            "3/3 [==============================] - 0s 16ms/step - loss: 0.0279 - val_loss: 0.0192\n",
            "Epoch 28/80\n",
            "3/3 [==============================] - 0s 23ms/step - loss: 0.0275 - val_loss: 0.0191\n",
            "Epoch 29/80\n",
            "3/3 [==============================] - 0s 24ms/step - loss: 0.0272 - val_loss: 0.0187\n",
            "Epoch 30/80\n",
            "3/3 [==============================] - 0s 19ms/step - loss: 0.0266 - val_loss: 0.0185\n",
            "Epoch 31/80\n",
            "3/3 [==============================] - 0s 24ms/step - loss: 0.0262 - val_loss: 0.0181\n",
            "Epoch 32/80\n",
            "3/3 [==============================] - 0s 25ms/step - loss: 0.0261 - val_loss: 0.0180\n",
            "Epoch 33/80\n",
            "3/3 [==============================] - 0s 15ms/step - loss: 0.0252 - val_loss: 0.0177\n",
            "Epoch 34/80\n",
            "3/3 [==============================] - 0s 25ms/step - loss: 0.0249 - val_loss: 0.0175\n",
            "Epoch 35/80\n",
            "3/3 [==============================] - 0s 15ms/step - loss: 0.0245 - val_loss: 0.0172\n",
            "Epoch 36/80\n",
            "3/3 [==============================] - 0s 20ms/step - loss: 0.0240 - val_loss: 0.0171\n",
            "Epoch 37/80\n",
            "3/3 [==============================] - 0s 24ms/step - loss: 0.0237 - val_loss: 0.0167\n",
            "Epoch 38/80\n",
            "3/3 [==============================] - 0s 25ms/step - loss: 0.0236 - val_loss: 0.0169\n",
            "Epoch 39/80\n",
            "3/3 [==============================] - 0s 24ms/step - loss: 0.0229 - val_loss: 0.0163\n",
            "Epoch 40/80\n",
            "3/3 [==============================] - 0s 15ms/step - loss: 0.0225 - val_loss: 0.0162\n",
            "Epoch 41/80\n",
            "3/3 [==============================] - 0s 20ms/step - loss: 0.0224 - val_loss: 0.0161\n",
            "Epoch 42/80\n",
            "3/3 [==============================] - 0s 17ms/step - loss: 0.0219 - val_loss: 0.0157\n",
            "Epoch 43/80\n",
            "3/3 [==============================] - 0s 24ms/step - loss: 0.0215 - val_loss: 0.0156\n",
            "Epoch 44/80\n",
            "3/3 [==============================] - 0s 16ms/step - loss: 0.0212 - val_loss: 0.0154\n",
            "Epoch 45/80\n",
            "3/3 [==============================] - 0s 15ms/step - loss: 0.0210 - val_loss: 0.0152\n",
            "Epoch 46/80\n",
            "3/3 [==============================] - 0s 25ms/step - loss: 0.0204 - val_loss: 0.0150\n",
            "Epoch 47/80\n",
            "3/3 [==============================] - 0s 16ms/step - loss: 0.0203 - val_loss: 0.0149\n",
            "Epoch 48/80\n",
            "3/3 [==============================] - 0s 24ms/step - loss: 0.0199 - val_loss: 0.0147\n",
            "Epoch 49/80\n",
            "3/3 [==============================] - 0s 15ms/step - loss: 0.0196 - val_loss: 0.0145\n",
            "Epoch 50/80\n",
            "3/3 [==============================] - 0s 20ms/step - loss: 0.0193 - val_loss: 0.0143\n",
            "Epoch 51/80\n",
            "3/3 [==============================] - 0s 15ms/step - loss: 0.0189 - val_loss: 0.0142\n",
            "Epoch 52/80\n",
            "3/3 [==============================] - 0s 15ms/step - loss: 0.0193 - val_loss: 0.0142\n",
            "Epoch 53/80\n",
            "3/3 [==============================] - 0s 26ms/step - loss: 0.0190 - val_loss: 0.0140\n",
            "Epoch 54/80\n",
            "3/3 [==============================] - 0s 25ms/step - loss: 0.0187 - val_loss: 0.0140\n",
            "Epoch 55/80\n",
            "3/3 [==============================] - 0s 15ms/step - loss: 0.0186 - val_loss: 0.0140\n",
            "Epoch 56/80\n",
            "3/3 [==============================] - 0s 16ms/step - loss: 0.0182 - val_loss: 0.0138\n",
            "Epoch 57/80\n",
            "3/3 [==============================] - 0s 24ms/step - loss: 0.0186 - val_loss: 0.0135\n",
            "Epoch 58/80\n",
            "3/3 [==============================] - 0s 17ms/step - loss: 0.0177 - val_loss: 0.0134\n",
            "Epoch 59/80\n",
            "3/3 [==============================] - 0s 24ms/step - loss: 0.0173 - val_loss: 0.0132\n",
            "Epoch 60/80\n",
            "3/3 [==============================] - 0s 16ms/step - loss: 0.0171 - val_loss: 0.0132\n",
            "Epoch 61/80\n",
            "3/3 [==============================] - 0s 17ms/step - loss: 0.0175 - val_loss: 0.0132\n",
            "Epoch 62/80\n",
            "3/3 [==============================] - 0s 22ms/step - loss: 0.0165 - val_loss: 0.0132\n",
            "Epoch 63/80\n",
            "3/3 [==============================] - 0s 19ms/step - loss: 0.0172 - val_loss: 0.0130\n",
            "Epoch 64/80\n",
            "3/3 [==============================] - 0s 24ms/step - loss: 0.0166 - val_loss: 0.0129\n",
            "Epoch 65/80\n",
            "3/3 [==============================] - 0s 15ms/step - loss: 0.0165 - val_loss: 0.0126\n",
            "Epoch 66/80\n",
            "3/3 [==============================] - 0s 23ms/step - loss: 0.0161 - val_loss: 0.0126\n",
            "Epoch 67/80\n",
            "3/3 [==============================] - 0s 17ms/step - loss: 0.0161 - val_loss: 0.0124\n",
            "Epoch 68/80\n",
            "3/3 [==============================] - 0s 18ms/step - loss: 0.0160 - val_loss: 0.0124\n",
            "Epoch 69/80\n",
            "3/3 [==============================] - 0s 16ms/step - loss: 0.0157 - val_loss: 0.0122\n",
            "Epoch 70/80\n",
            "3/3 [==============================] - 0s 25ms/step - loss: 0.0155 - val_loss: 0.0122\n",
            "Epoch 71/80\n",
            "3/3 [==============================] - 0s 23ms/step - loss: 0.0157 - val_loss: 0.0122\n",
            "Epoch 72/80\n",
            "3/3 [==============================] - 0s 15ms/step - loss: 0.0154 - val_loss: 0.0123\n",
            "Epoch 73/80\n",
            "3/3 [==============================] - 0s 26ms/step - loss: 0.0156 - val_loss: 0.0120\n",
            "Epoch 74/80\n",
            "3/3 [==============================] - 0s 24ms/step - loss: 0.0153 - val_loss: 0.0126\n",
            "Epoch 75/80\n",
            "3/3 [==============================] - 0s 15ms/step - loss: 0.0151 - val_loss: 0.0119\n",
            "Epoch 76/80\n",
            "3/3 [==============================] - 0s 24ms/step - loss: 0.0150 - val_loss: 0.0124\n",
            "Epoch 77/80\n",
            "3/3 [==============================] - 0s 16ms/step - loss: 0.0150 - val_loss: 0.0119\n",
            "Epoch 78/80\n",
            "3/3 [==============================] - 0s 15ms/step - loss: 0.0151 - val_loss: 0.0118\n",
            "Epoch 79/80\n",
            "3/3 [==============================] - 0s 24ms/step - loss: 0.0149 - val_loss: 0.0117\n",
            "Epoch 80/80\n",
            "3/3 [==============================] - 0s 15ms/step - loss: 0.0147 - val_loss: 0.0118\n"
          ]
        }
      ]
    },
    {
      "cell_type": "code",
      "source": [
        "import matplotlib.pyplot as plt\n",
        "plt.plot(r.history['loss'], label = 'loss')\n",
        "plt.plot(r.history['val_loss'],label='val_loss')\n",
        "plt.legend()"
      ],
      "metadata": {
        "colab": {
          "base_uri": "https://localhost:8080/",
          "height": 282
        },
        "id": "ej_MDqp4w43Y",
        "outputId": "7345178d-2209-40e5-aae2-1b7a3e1ead83"
      },
      "execution_count": 18,
      "outputs": [
        {
          "output_type": "execute_result",
          "data": {
            "text/plain": [
              "<matplotlib.legend.Legend at 0x7fc614d59610>"
            ]
          },
          "metadata": {},
          "execution_count": 18
        },
        {
          "output_type": "display_data",
          "data": {
            "text/plain": [
              "<Figure size 432x288 with 1 Axes>"
            ],
            "image/png": "[encoded data removed]"
          },
          "metadata": {
            "needs_background": "light"
          }
        }
      ]
    },
    {
      "cell_type": "code",
      "source": [
        "validation_target = Y[-N//2:]\n",
        "validation_predictions =[]\n",
        "\n",
        "last_x = X[-N//2]\n",
        "\n",
        "while len(validation_predictions) < len(validation_target):\n",
        "  p= model.predict(last_x.reshape(1,-1))[0,0]\n",
        "  validation_predictions.append(p)\n",
        "  last_x= np.roll(last_x,-1)\n",
        "  last_x[-1] =p"
      ],
      "metadata": {
        "id": "AlpVfjYUz76v"
      },
      "execution_count": 19,
      "outputs": []
    },
    {
      "cell_type": "code",
      "source": [
        "plt.plot(validation_target,label = 'forecast target')\n",
        "plt.plot(validation_predictions,label='forecast prediction')\n",
        "plt.legend()"
      ],
      "metadata": {
        "colab": {
          "base_uri": "https://localhost:8080/",
          "height": 282
        },
        "id": "DWLY9lOE1Zex",
        "outputId": "f1340f2c-aeb2-4e13-a797-cf6c99e2277d"
      },
      "execution_count": 20,
      "outputs": [
        {
          "output_type": "execute_result",
          "data": {
            "text/plain": [
              "<matplotlib.legend.Legend at 0x7fc615920e10>"
            ]
          },
          "metadata": {},
          "execution_count": 20
        },
        {
          "output_type": "display_data",
          "data": {
            "text/plain": [
              "<Figure size 432x288 with 1 Axes>"
            ],
            "image/png": "[encoded data removed]"
          },
          "metadata": {
            "needs_background": "light"
          }
        }
      ]
    }
  ]
}