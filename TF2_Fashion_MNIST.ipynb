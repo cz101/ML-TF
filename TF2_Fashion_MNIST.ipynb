{
  "nbformat": 4,
  "nbformat_minor": 0,
  "metadata": {
    "colab": {
      "name": "TF2 Fashion MNIST.ipynb",
      "provenance": [],
      "authorship_tag": "ABX9TyMhrAc72YxqAQ8gwWYCRGG7",
      "include_colab_link": true
    },
    "kernelspec": {
      "name": "python3",
      "display_name": "Python 3"
    },
    "language_info": {
      "name": "python"
    }
  },
  "cells": [
    {
      "cell_type": "markdown",
      "metadata": {
        "id": "view-in-github",
        "colab_type": "text"
      },
      "source": [
        "<a href=\"https://colab.research.google.com/github/cz101/ML-TF/blob/main/TF2_Fashion_MNIST.ipynb\" target=\"_parent\"><img src=\"https://colab.research.google.com/assets/colab-badge.svg\" alt=\"Open In Colab\"/></a>"
      ]
    },
    {
      "cell_type": "code",
      "execution_count": 2,
      "metadata": {
        "colab": {
          "base_uri": "https://localhost:8080/"
        },
        "id": "CW64PXkEhP20",
        "outputId": "6519884a-e207-44a1-bb15-bbc3fcac5503"
      },
      "outputs": [
        {
          "output_type": "stream",
          "name": "stdout",
          "text": [
            "2.8.2\n"
          ]
        }
      ],
      "source": [
        "import tensorflow as tf \n",
        "print(tf.__version__)"
      ]
    },
    {
      "cell_type": "code",
      "source": [
        "import numpy as np\n",
        "import matplotlib.pyplot as plt\n",
        "from tensorflow.keras.layers import  Input, Conv2D, Flatten, Dense, Dropout\n",
        "from tensorflow.keras.models import Model"
      ],
      "metadata": {
        "id": "QNi87hIVhpFS"
      },
      "execution_count": 4,
      "outputs": []
    },
    {
      "cell_type": "code",
      "source": [
        "fashion_mnist = tf.keras.datasets.fashion_mnist\n",
        "(x_train,y_train),(x_test ,y_test) = fashion_mnist.load_data()\n",
        "x_train, x_test = x_train/255.0 , x_test/255.0\n",
        "print(\"x_train.shape\", x_train.shape)"
      ],
      "metadata": {
        "colab": {
          "base_uri": "https://localhost:8080/"
        },
        "id": "lO3t_nvtjwk5",
        "outputId": "9d880ac2-6c1d-42d0-a6dd-6f850f3e13ca"
      },
      "execution_count": 16,
      "outputs": [
        {
          "output_type": "stream",
          "name": "stdout",
          "text": [
            "x_train.shape (60000, 28, 28)\n"
          ]
        }
      ]
    },
    {
      "cell_type": "code",
      "source": [
        "x_train =np.expand_dims(x_train,-1)\n",
        "x_test = np.expand_dims(x_test,-1)\n",
        "print(x_train.shape)"
      ],
      "metadata": {
        "colab": {
          "base_uri": "https://localhost:8080/"
        },
        "id": "ofMUpTY5kqly",
        "outputId": "52c51ffa-2d6b-4948-f761-4521a6542465"
      },
      "execution_count": 17,
      "outputs": [
        {
          "output_type": "stream",
          "name": "stdout",
          "text": [
            "(60000, 28, 28, 1)\n"
          ]
        }
      ]
    },
    {
      "cell_type": "code",
      "source": [
        "K= len(set(y_train))\n",
        "print(\"number of calsses :\",K)"
      ],
      "metadata": {
        "colab": {
          "base_uri": "https://localhost:8080/"
        },
        "id": "8G6ObsYciTWl",
        "outputId": "c11ed8ed-6a24-494a-af86-a261ef94122d"
      },
      "execution_count": 18,
      "outputs": [
        {
          "output_type": "stream",
          "name": "stdout",
          "text": [
            "number of calsses : 10\n"
          ]
        }
      ]
    },
    {
      "cell_type": "code",
      "source": [
        "from threading import active_count\n",
        "i = Input(shape=x_train[0].shape)\n",
        "x = Conv2D(32,(3,3), strides=2 ,activation='relu')(i)\n",
        "x = Conv2D(64,(3,3), strides=2 ,activation='relu')(x)\n",
        "x = Conv2D(128,(3,3), strides=2 ,activation='relu')(x)\n",
        "x = Flatten()(x)\n",
        "x = Dropout(0.2)(x)\n",
        "x = Dense(512,activation='relu')(x)\n",
        "x = Dropout(0.2)(x)\n",
        "x = Dense(K,activation='softmax')(x)\n",
        "\n",
        "model = Model(i,x)"
      ],
      "metadata": {
        "id": "Zx3bOR4rnQHo"
      },
      "execution_count": 19,
      "outputs": []
    },
    {
      "cell_type": "code",
      "source": [
        "model.compile(optimizer='adam',\n",
        "              loss='sparse_categorical_crossentropy',\n",
        "              metrics=['accuracy'])\n",
        "r = model.fit(x_train,y_train,validation_data=(x_test,y_test),epochs=15)"
      ],
      "metadata": {
        "colab": {
          "base_uri": "https://localhost:8080/"
        },
        "id": "Pqgpcd1Bpuod",
        "outputId": "e7e28a55-6f74-4d10-b47b-81ffaef2bbb4"
      },
      "execution_count": 21,
      "outputs": [
        {
          "output_type": "stream",
          "name": "stdout",
          "text": [
            "Epoch 1/15\n",
            "1875/1875 [==============================] - 31s 16ms/step - loss: 0.5272 - accuracy: 0.8052 - val_loss: 0.3971 - val_accuracy: 0.8497\n",
            "Epoch 2/15\n",
            "1875/1875 [==============================] - 31s 17ms/step - loss: 0.3677 - accuracy: 0.8625 - val_loss: 0.3615 - val_accuracy: 0.8627\n",
            "Epoch 3/15\n",
            "1875/1875 [==============================] - 31s 16ms/step - loss: 0.3178 - accuracy: 0.8804 - val_loss: 0.3402 - val_accuracy: 0.8721\n",
            "Epoch 4/15\n",
            "1875/1875 [==============================] - 31s 16ms/step - loss: 0.2823 - accuracy: 0.8954 - val_loss: 0.3002 - val_accuracy: 0.8906\n",
            "Epoch 5/15\n",
            "1875/1875 [==============================] - 32s 17ms/step - loss: 0.2553 - accuracy: 0.9040 - val_loss: 0.2935 - val_accuracy: 0.8927\n",
            "Epoch 6/15\n",
            "1875/1875 [==============================] - 31s 17ms/step - loss: 0.2364 - accuracy: 0.9109 - val_loss: 0.3011 - val_accuracy: 0.8885\n",
            "Epoch 7/15\n",
            "1875/1875 [==============================] - 32s 17ms/step - loss: 0.2165 - accuracy: 0.9183 - val_loss: 0.2861 - val_accuracy: 0.8987\n",
            "Epoch 8/15\n",
            "1875/1875 [==============================] - 31s 16ms/step - loss: 0.2021 - accuracy: 0.9239 - val_loss: 0.2927 - val_accuracy: 0.8954\n",
            "Epoch 9/15\n",
            "1875/1875 [==============================] - 30s 16ms/step - loss: 0.1865 - accuracy: 0.9287 - val_loss: 0.2995 - val_accuracy: 0.8987\n",
            "Epoch 10/15\n",
            "1875/1875 [==============================] - 32s 17ms/step - loss: 0.1766 - accuracy: 0.9334 - val_loss: 0.3483 - val_accuracy: 0.8846\n",
            "Epoch 11/15\n",
            "1875/1875 [==============================] - 32s 17ms/step - loss: 0.1622 - accuracy: 0.9372 - val_loss: 0.3057 - val_accuracy: 0.9025\n",
            "Epoch 12/15\n",
            "1875/1875 [==============================] - 31s 17ms/step - loss: 0.1538 - accuracy: 0.9407 - val_loss: 0.3249 - val_accuracy: 0.8966\n",
            "Epoch 13/15\n",
            "1875/1875 [==============================] - 32s 17ms/step - loss: 0.1416 - accuracy: 0.9453 - val_loss: 0.3463 - val_accuracy: 0.9002\n",
            "Epoch 14/15\n",
            "1875/1875 [==============================] - 33s 17ms/step - loss: 0.1359 - accuracy: 0.9474 - val_loss: 0.3539 - val_accuracy: 0.8992\n",
            "Epoch 15/15\n",
            "1875/1875 [==============================] - 33s 18ms/step - loss: 0.1291 - accuracy: 0.9504 - val_loss: 0.3548 - val_accuracy: 0.8985\n"
          ]
        }
      ]
    },
    {
      "cell_type": "code",
      "source": [
        "import matplotlib.pyplot as plt\n",
        "plt.plot(r.history['loss'], label = 'loss')\n",
        "plt.plot(r.history['val_loss'],label='val_loss')\n",
        "plt.legend()"
      ],
      "metadata": {
        "colab": {
          "base_uri": "https://localhost:8080/",
          "height": 283
        },
        "id": "6EVR2fofyleB",
        "outputId": "c62f7fb1-208b-4410-eefc-b5208b8a8f3a"
      },
      "execution_count": 23,
      "outputs": [
        {
          "output_type": "execute_result",
          "data": {
            "text/plain": [
              "<matplotlib.legend.Legend at 0x7fb9d31dba50>"
            ]
          },
          "metadata": {},
          "execution_count": 23
        },
        {
          "output_type": "display_data",
          "data": {
            "text/plain": [
              "<Figure size 432x288 with 1 Axes>"
            ],
            "image/png": "[encoded data removed]"
          },
          "metadata": {
            "needs_background": "light"
          }
        }
      ]
    },
    {
      "cell_type": "code",
      "source": [
        "plt.plot(r.history['accuracy'], label = 'accuracy')\n",
        "plt.plot(r.history['val_accuracy'],label='val_accuracy')\n",
        "plt.legend()"
      ],
      "metadata": {
        "colab": {
          "base_uri": "https://localhost:8080/",
          "height": 283
        },
        "id": "pn6bnspc0ge4",
        "outputId": "0919c1d6-ab7d-48a9-ab99-4cd451782b21"
      },
      "execution_count": 24,
      "outputs": [
        {
          "output_type": "execute_result",
          "data": {
            "text/plain": [
              "<matplotlib.legend.Legend at 0x7fb9d630da50>"
            ]
          },
          "metadata": {},
          "execution_count": 24
        },
        {
          "output_type": "display_data",
          "data": {
            "text/plain": [
              "<Figure size 432x288 with 1 Axes>"
            ],
            "image/png": "[encoded data removed]"
          },
          "metadata": {
            "needs_background": "light"
          }
        }
      ]
    }
  ]
}