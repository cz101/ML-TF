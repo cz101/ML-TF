{
  "nbformat": 4,
  "nbformat_minor": 0,
  "metadata": {
    "colab": {
      "name": "TF2.0 RNN Shapes.ipynb",
      "provenance": [],
      "authorship_tag": "ABX9TyNBSGpD0+u8Ydjo6JcTaEmS",
      "include_colab_link": true
    },
    "kernelspec": {
      "name": "python3",
      "display_name": "Python 3"
    },
    "language_info": {
      "name": "python"
    }
  },
  "cells": [
    {
      "cell_type": "markdown",
      "metadata": {
        "id": "view-in-github",
        "colab_type": "text"
      },
      "source": [
        "<a href=\"https://colab.research.google.com/github/cz101/ML-TF/blob/main/TF2_0_RNN_Shapes.ipynb\" target=\"_parent\"><img src=\"https://colab.research.google.com/assets/colab-badge.svg\" alt=\"Open In Colab\"/></a>"
      ]
    },
    {
      "cell_type": "code",
      "execution_count": 1,
      "metadata": {
        "colab": {
          "base_uri": "https://localhost:8080/"
        },
        "id": "bdQP22jZ9IJs",
        "outputId": "a0310ae4-872b-4e8b-eeb0-07db8ca31484"
      },
      "outputs": [
        {
          "output_type": "stream",
          "name": "stdout",
          "text": [
            "2.8.2\n"
          ]
        }
      ],
      "source": [
        "import tensorflow as tf \n",
        "print(tf.__version__)"
      ]
    },
    {
      "cell_type": "code",
      "source": [
        "import numpy as np\n",
        "import pandas as pd\n",
        "import matplotlib.pyplot as plt\n",
        "from tensorflow.keras.layers import  Input, Dense,SimpleRNN,Flatten\n",
        "from tensorflow.keras.models import Model\n",
        "from tensorflow.keras.optimizers import SGD, Adam"
      ],
      "metadata": {
        "id": "pEs_DB169ZIf"
      },
      "execution_count": 2,
      "outputs": []
    },
    {
      "cell_type": "code",
      "source": [
        "#creating the data set\n",
        "T=10\n",
        "D=3\n",
        "N=1 \n",
        "K=2 #number of outpit unit\n",
        "X=np.random.randn(N,T,D)\n",
        "\n",
        "\n",
        "print(\"X shape\", X.shape)\n",
        "print(X)"
      ],
      "metadata": {
        "colab": {
          "base_uri": "https://localhost:8080/"
        },
        "id": "Gg8jaJNK9jND",
        "outputId": "17cda948-d1dc-4e72-a690-291f0fb57137"
      },
      "execution_count": 4,
      "outputs": [
        {
          "output_type": "stream",
          "name": "stdout",
          "text": [
            "X shape (1, 10, 3)\n",
            "[[[ 0.19983933  0.51387517  0.56484368]\n",
            "  [ 1.78480972 -0.30657342  0.81179696]\n",
            "  [ 1.0888688  -1.07945096  2.30384924]\n",
            "  [ 1.26865692  0.05413945 -0.50055515]\n",
            "  [ 0.14440991  1.49273257  1.30974684]\n",
            "  [ 0.55445724 -0.34173593 -1.05053838]\n",
            "  [ 0.26392309  1.00718277 -0.94329678]\n",
            "  [-0.82519028 -0.06886508 -1.61305848]\n",
            "  [-1.06163435 -0.77918497  0.27066325]\n",
            "  [-1.38931047 -0.52516763  1.24663103]]]\n"
          ]
        }
      ]
    },
    {
      "cell_type": "code",
      "source": [
        ""
      ],
      "metadata": {
        "id": "bbxYL2si-Z-6"
      },
      "execution_count": null,
      "outputs": []
    },
    {
      "cell_type": "code",
      "source": [
        "#built the autogregressive RNN model\n",
        "M=5 #hidden uinit\n",
        "i= Input(shape=(T,D))\n",
        "x=SimpleRNN(M)(i)\n",
        "x= Dense(K)(x)\n",
        "model = Model(i,x)\n"
      ],
      "metadata": {
        "id": "_UCb0EVj-iFL"
      },
      "execution_count": 5,
      "outputs": []
    },
    {
      "cell_type": "code",
      "source": [
        "Yhat = model.predict(X)\n",
        "print(Yhat)"
      ],
      "metadata": {
        "colab": {
          "base_uri": "https://localhost:8080/"
        },
        "id": "NHNv8nR3_CqE",
        "outputId": "c758507d-dc4d-471f-9148-4c25e678c449"
      },
      "execution_count": 6,
      "outputs": [
        {
          "output_type": "stream",
          "name": "stdout",
          "text": [
            "[[ 0.32755783 -0.3249078 ]]\n"
          ]
        }
      ]
    },
    {
      "cell_type": "code",
      "source": [
        "model.summary()"
      ],
      "metadata": {
        "colab": {
          "base_uri": "https://localhost:8080/"
        },
        "id": "P4AgipDR_T90",
        "outputId": "371e8a57-179b-46df-d95f-1a185a871249"
      },
      "execution_count": 7,
      "outputs": [
        {
          "output_type": "stream",
          "name": "stdout",
          "text": [
            "Model: \"model\"\n",
            "_________________________________________________________________\n",
            " Layer (type)                Output Shape              Param #   \n",
            "=================================================================\n",
            " input_1 (InputLayer)        [(None, 10, 3)]           0         \n",
            "                                                                 \n",
            " simple_rnn (SimpleRNN)      (None, 5)                 45        \n",
            "                                                                 \n",
            " dense (Dense)               (None, 2)                 12        \n",
            "                                                                 \n",
            "=================================================================\n",
            "Total params: 57\n",
            "Trainable params: 57\n",
            "Non-trainable params: 0\n",
            "_________________________________________________________________\n"
          ]
        }
      ]
    },
    {
      "cell_type": "code",
      "source": [
        "model.layers[1].get_weights()"
      ],
      "metadata": {
        "colab": {
          "base_uri": "https://localhost:8080/"
        },
        "id": "Uk3fHEbP_eOl",
        "outputId": "a779c5e4-bd89-48c4-c0bf-57fc450b4994"
      },
      "execution_count": 8,
      "outputs": [
        {
          "output_type": "execute_result",
          "data": {
            "text/plain": [
              "[array([[ 0.8551113 ,  0.47123045,  0.25462526,  0.12645471,  0.294946  ],\n",
              "        [-0.54349625,  0.05702698, -0.51057744,  0.7024619 , -0.2772057 ],\n",
              "        [-0.40602827,  0.7417808 ,  0.46210545,  0.7894313 , -0.2309143 ]],\n",
              "       dtype=float32),\n",
              " array([[-0.32091033, -0.4520248 ,  0.70662284,  0.02746071,  0.43888533],\n",
              "        [-0.42770702,  0.05273448, -0.05238787, -0.89306796, -0.11819838],\n",
              "        [-0.10557074, -0.11326015, -0.6045481 , -0.02403175,  0.7810064 ],\n",
              "        [-0.6548972 , -0.41702783, -0.33264148,  0.3608597 , -0.39538246],\n",
              "        [-0.5234958 ,  0.778558  ,  0.14768548,  0.2662295 ,  0.16465259]],\n",
              "       dtype=float32),\n",
              " array([0., 0., 0., 0., 0.], dtype=float32)]"
            ]
          },
          "metadata": {},
          "execution_count": 8
        }
      ]
    },
    {
      "cell_type": "code",
      "source": [
        "a,b,c= model.layers[1].get_weights()\n",
        "print(a.shape,b.shape,c.shape)"
      ],
      "metadata": {
        "colab": {
          "base_uri": "https://localhost:8080/"
        },
        "id": "Y8FMDO6k_o_p",
        "outputId": "14145f47-f905-41af-96ec-389b9b46bf07"
      },
      "execution_count": 9,
      "outputs": [
        {
          "output_type": "stream",
          "name": "stdout",
          "text": [
            "(3, 5) (5, 5) (5,)\n"
          ]
        }
      ]
    },
    {
      "cell_type": "code",
      "source": [
        "Wx,Wh,bh = model.layers[1].get_weights()\n",
        "Wo,bo=model.layers[2].get_weights()"
      ],
      "metadata": {
        "id": "GQVYIA7p__3b"
      },
      "execution_count": 10,
      "outputs": []
    },
    {
      "cell_type": "code",
      "source": [
        "from numpy.lib.stride_tricks import broadcast_arrays\n",
        "h_last = np.zeros(M)\n",
        "x =X[0]\n",
        "Yhats= []\n",
        "\n",
        "for t in range(T):\n",
        "  h= np.tanh(x[t].dot(Wx)+ h_last.dot(Wh)+bh)\n",
        "  y= h.dot(Wo)+bo\n",
        "  Yhats.append(y)\n",
        "\n",
        "  h_last =h\n",
        "  \n",
        "print(Yhats[-1])"
      ],
      "metadata": {
        "colab": {
          "base_uri": "https://localhost:8080/"
        },
        "id": "DcpMo80zAU7u",
        "outputId": "45b8ca9e-85e6-456d-cdca-e0d18d6cb066"
      },
      "execution_count": 11,
      "outputs": [
        {
          "output_type": "stream",
          "name": "stdout",
          "text": [
            "[ 0.32755781 -0.32490795]\n"
          ]
        }
      ]
    }
  ]
}