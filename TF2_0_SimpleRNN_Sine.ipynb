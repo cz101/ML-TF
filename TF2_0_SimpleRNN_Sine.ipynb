{
  "nbformat": 4,
  "nbformat_minor": 0,
  "metadata": {
    "colab": {
      "name": "TF2.0 SimpleRNN Sine.ipynb",
      "provenance": [],
      "authorship_tag": "ABX9TyN54mGhAmwxQTMDe0TjsNUD",
      "include_colab_link": true
    },
    "kernelspec": {
      "name": "python3",
      "display_name": "Python 3"
    },
    "language_info": {
      "name": "python"
    }
  },
  "cells": [
    {
      "cell_type": "markdown",
      "metadata": {
        "id": "view-in-github",
        "colab_type": "text"
      },
      "source": [
        "<a href=\"https://colab.research.google.com/github/cz101/ML-TF/blob/main/TF2_0_SimpleRNN_Sine.ipynb\" target=\"_parent\"><img src=\"https://colab.research.google.com/assets/colab-badge.svg\" alt=\"Open In Colab\"/></a>"
      ]
    },
    {
      "cell_type": "code",
      "execution_count": 1,
      "metadata": {
        "colab": {
          "base_uri": "https://localhost:8080/"
        },
        "id": "tkRpNs_24Olx",
        "outputId": "4a22fa11-e114-4eb0-aa6b-bbc0f32905ce"
      },
      "outputs": [
        {
          "output_type": "stream",
          "name": "stdout",
          "text": [
            "2.8.2\n"
          ]
        }
      ],
      "source": [
        "import tensorflow as tf \n",
        "print(tf.__version__)"
      ]
    },
    {
      "cell_type": "code",
      "source": [
        "import numpy as np\n",
        "import pandas as pd\n",
        "import matplotlib.pyplot as plt\n",
        "from tensorflow.keras.layers import  Input, Dense,SimpleRNN,Flatten\n",
        "from tensorflow.keras.models import Model\n",
        "from tensorflow.keras.optimizers import SGD, Adam"
      ],
      "metadata": {
        "id": "ji0G9DRT46K1"
      },
      "execution_count": 2,
      "outputs": []
    },
    {
      "cell_type": "code",
      "source": [
        "series = np.sin(0.1*np.arange(200)) +np.random.randn(200)*0.1 \n",
        "plt.plot(series)\n",
        "plt.show()"
      ],
      "metadata": {
        "colab": {
          "base_uri": "https://localhost:8080/",
          "height": 265
        },
        "id": "YC5UkUeP5IYK",
        "outputId": "11bfcad9-ce6f-4a5f-d07c-0391d528b71c"
      },
      "execution_count": 15,
      "outputs": [
        {
          "output_type": "display_data",
          "data": {
            "text/plain": [
              "<Figure size 432x288 with 1 Axes>"
            ],
            "image/png": "[encoded data removed]"
          },
          "metadata": {
            "needs_background": "light"
          }
        }
      ]
    },
    {
      "cell_type": "code",
      "source": [
        "#creating the data set\n",
        "T=10\n",
        "D=1\n",
        "X= []\n",
        "Y= []\n",
        "\n",
        "for t in range (len(series)-T):\n",
        "  x = series [t:t+T]\n",
        "  X.append(x)\n",
        "  y = series [t+T]\n",
        "  Y.append(y)\n",
        "X = np.array(X).reshape(-1,T,1) #The data set is N x D x T\n",
        "Y = np.array(Y)\n",
        "N = len(X)\n",
        "\n",
        "print(\"X shape\", X.shape, \"Y shape\", Y.shape)"
      ],
      "metadata": {
        "colab": {
          "base_uri": "https://localhost:8080/"
        },
        "id": "Y1a3fTr15LTw",
        "outputId": "b8fa3c68-1253-4305-8b90-3d0378846468"
      },
      "execution_count": 16,
      "outputs": [
        {
          "output_type": "stream",
          "name": "stdout",
          "text": [
            "X shape (190, 10, 1) Y shape (190,)\n"
          ]
        }
      ]
    },
    {
      "cell_type": "code",
      "source": [
        "#built the autogregressive RNN model\n",
        "i= Input(shape=(T,1))\n",
        "x=SimpleRNN(5,activation='relu')(i)\n",
        "x= Dense(1)(x)\n",
        "model = Model(i,x)\n",
        "model.compile(\n",
        "    loss = 'mse',\n",
        "    optimizer= Adam(learning_rate=0.1),\n",
        ")\n",
        "r= model.fit(\n",
        "    X[: -N//2],Y[: -N//2],\n",
        "    epochs=80,\n",
        "    validation_data=(X[-N//2:],Y[-N//2:])\n",
        ")"
      ],
      "metadata": {
        "colab": {
          "base_uri": "https://localhost:8080/"
        },
        "id": "nqfmzatB5wXw",
        "outputId": "3a283a4e-2297-4648-b3da-1433e6668e52"
      },
      "execution_count": 22,
      "outputs": [
        {
          "output_type": "stream",
          "name": "stdout",
          "text": [
            "Epoch 1/80\n",
            "3/3 [==============================] - 1s 124ms/step - loss: 0.3738 - val_loss: 0.2825\n",
            "Epoch 2/80\n",
            "3/3 [==============================] - 0s 18ms/step - loss: 0.2500 - val_loss: 0.1732\n",
            "Epoch 3/80\n",
            "3/3 [==============================] - 0s 18ms/step - loss: 0.1048 - val_loss: 0.1224\n",
            "Epoch 4/80\n",
            "3/3 [==============================] - 0s 23ms/step - loss: 0.0933 - val_loss: 0.0789\n",
            "Epoch 5/80\n",
            "3/3 [==============================] - 0s 27ms/step - loss: 0.0755 - val_loss: 0.0896\n",
            "Epoch 6/80\n",
            "3/3 [==============================] - 0s 21ms/step - loss: 0.0576 - val_loss: 0.0629\n",
            "Epoch 7/80\n",
            "3/3 [==============================] - 0s 18ms/step - loss: 0.0730 - val_loss: 0.0491\n",
            "Epoch 8/80\n",
            "3/3 [==============================] - 0s 25ms/step - loss: 0.0500 - val_loss: 0.0627\n",
            "Epoch 9/80\n",
            "3/3 [==============================] - 0s 18ms/step - loss: 0.0436 - val_loss: 0.0387\n",
            "Epoch 10/80\n",
            "3/3 [==============================] - 0s 18ms/step - loss: 0.0439 - val_loss: 0.0337\n",
            "Epoch 11/80\n",
            "3/3 [==============================] - 0s 26ms/step - loss: 0.0335 - val_loss: 0.0483\n",
            "Epoch 12/80\n",
            "3/3 [==============================] - 0s 17ms/step - loss: 0.0353 - val_loss: 0.0285\n",
            "Epoch 13/80\n",
            "3/3 [==============================] - 0s 17ms/step - loss: 0.0359 - val_loss: 0.0278\n",
            "Epoch 14/80\n",
            "3/3 [==============================] - 0s 17ms/step - loss: 0.0262 - val_loss: 0.0367\n",
            "Epoch 15/80\n",
            "3/3 [==============================] - 0s 19ms/step - loss: 0.0327 - val_loss: 0.0230\n",
            "Epoch 16/80\n",
            "3/3 [==============================] - 0s 19ms/step - loss: 0.0283 - val_loss: 0.0236\n",
            "Epoch 17/80\n",
            "3/3 [==============================] - 0s 18ms/step - loss: 0.0225 - val_loss: 0.0316\n",
            "Epoch 18/80\n",
            "3/3 [==============================] - 0s 25ms/step - loss: 0.0251 - val_loss: 0.0225\n",
            "Epoch 19/80\n",
            "3/3 [==============================] - 0s 17ms/step - loss: 0.0220 - val_loss: 0.0226\n",
            "Epoch 20/80\n",
            "3/3 [==============================] - 0s 27ms/step - loss: 0.0215 - val_loss: 0.0283\n",
            "Epoch 21/80\n",
            "3/3 [==============================] - 0s 25ms/step - loss: 0.0211 - val_loss: 0.0214\n",
            "Epoch 22/80\n",
            "3/3 [==============================] - 0s 26ms/step - loss: 0.0236 - val_loss: 0.0213\n",
            "Epoch 23/80\n",
            "3/3 [==============================] - 0s 18ms/step - loss: 0.0198 - val_loss: 0.0261\n",
            "Epoch 24/80\n",
            "3/3 [==============================] - 0s 23ms/step - loss: 0.0204 - val_loss: 0.0212\n",
            "Epoch 25/80\n",
            "3/3 [==============================] - 0s 26ms/step - loss: 0.0207 - val_loss: 0.0213\n",
            "Epoch 26/80\n",
            "3/3 [==============================] - 0s 27ms/step - loss: 0.0200 - val_loss: 0.0240\n",
            "Epoch 27/80\n",
            "3/3 [==============================] - 0s 17ms/step - loss: 0.0194 - val_loss: 0.0215\n",
            "Epoch 28/80\n",
            "3/3 [==============================] - 0s 18ms/step - loss: 0.0203 - val_loss: 0.0231\n",
            "Epoch 29/80\n",
            "3/3 [==============================] - 0s 17ms/step - loss: 0.0195 - val_loss: 0.0219\n",
            "Epoch 30/80\n",
            "3/3 [==============================] - 0s 17ms/step - loss: 0.0191 - val_loss: 0.0228\n",
            "Epoch 31/80\n",
            "3/3 [==============================] - 0s 25ms/step - loss: 0.0190 - val_loss: 0.0218\n",
            "Epoch 32/80\n",
            "3/3 [==============================] - 0s 17ms/step - loss: 0.0194 - val_loss: 0.0227\n",
            "Epoch 33/80\n",
            "3/3 [==============================] - 0s 18ms/step - loss: 0.0199 - val_loss: 0.0222\n",
            "Epoch 34/80\n",
            "3/3 [==============================] - 0s 18ms/step - loss: 0.0194 - val_loss: 0.0236\n",
            "Epoch 35/80\n",
            "3/3 [==============================] - 0s 22ms/step - loss: 0.0189 - val_loss: 0.0216\n",
            "Epoch 36/80\n",
            "3/3 [==============================] - 0s 18ms/step - loss: 0.0193 - val_loss: 0.0240\n",
            "Epoch 37/80\n",
            "3/3 [==============================] - 0s 17ms/step - loss: 0.0195 - val_loss: 0.0222\n",
            "Epoch 38/80\n",
            "3/3 [==============================] - 0s 26ms/step - loss: 0.0194 - val_loss: 0.0222\n",
            "Epoch 39/80\n",
            "3/3 [==============================] - 0s 28ms/step - loss: 0.0189 - val_loss: 0.0230\n",
            "Epoch 40/80\n",
            "3/3 [==============================] - 0s 18ms/step - loss: 0.0188 - val_loss: 0.0219\n",
            "Epoch 41/80\n",
            "3/3 [==============================] - 0s 18ms/step - loss: 0.0193 - val_loss: 0.0223\n",
            "Epoch 42/80\n",
            "3/3 [==============================] - 0s 19ms/step - loss: 0.0203 - val_loss: 0.0236\n",
            "Epoch 43/80\n",
            "3/3 [==============================] - 0s 19ms/step - loss: 0.0199 - val_loss: 0.0230\n",
            "Epoch 44/80\n",
            "3/3 [==============================] - 0s 20ms/step - loss: 0.0190 - val_loss: 0.0220\n",
            "Epoch 45/80\n",
            "3/3 [==============================] - 0s 18ms/step - loss: 0.0187 - val_loss: 0.0245\n",
            "Epoch 46/80\n",
            "3/3 [==============================] - 0s 17ms/step - loss: 0.0195 - val_loss: 0.0223\n",
            "Epoch 47/80\n",
            "3/3 [==============================] - 0s 25ms/step - loss: 0.0188 - val_loss: 0.0234\n",
            "Epoch 48/80\n",
            "3/3 [==============================] - 0s 26ms/step - loss: 0.0186 - val_loss: 0.0222\n",
            "Epoch 49/80\n",
            "3/3 [==============================] - 0s 18ms/step - loss: 0.0195 - val_loss: 0.0227\n",
            "Epoch 50/80\n",
            "3/3 [==============================] - 0s 18ms/step - loss: 0.0189 - val_loss: 0.0220\n",
            "Epoch 51/80\n",
            "3/3 [==============================] - 0s 27ms/step - loss: 0.0190 - val_loss: 0.0240\n",
            "Epoch 52/80\n",
            "3/3 [==============================] - 0s 21ms/step - loss: 0.0192 - val_loss: 0.0222\n",
            "Epoch 53/80\n",
            "3/3 [==============================] - 0s 18ms/step - loss: 0.0195 - val_loss: 0.0232\n",
            "Epoch 54/80\n",
            "3/3 [==============================] - 0s 19ms/step - loss: 0.0188 - val_loss: 0.0236\n",
            "Epoch 55/80\n",
            "3/3 [==============================] - 0s 25ms/step - loss: 0.0190 - val_loss: 0.0221\n",
            "Epoch 56/80\n",
            "3/3 [==============================] - 0s 25ms/step - loss: 0.0203 - val_loss: 0.0238\n",
            "Epoch 57/80\n",
            "3/3 [==============================] - 0s 17ms/step - loss: 0.0195 - val_loss: 0.0233\n",
            "Epoch 58/80\n",
            "3/3 [==============================] - 0s 19ms/step - loss: 0.0200 - val_loss: 0.0233\n",
            "Epoch 59/80\n",
            "3/3 [==============================] - 0s 27ms/step - loss: 0.0189 - val_loss: 0.0228\n",
            "Epoch 60/80\n",
            "3/3 [==============================] - 0s 19ms/step - loss: 0.0194 - val_loss: 0.0228\n",
            "Epoch 61/80\n",
            "3/3 [==============================] - 0s 23ms/step - loss: 0.0191 - val_loss: 0.0223\n",
            "Epoch 62/80\n",
            "3/3 [==============================] - 0s 26ms/step - loss: 0.0187 - val_loss: 0.0246\n",
            "Epoch 63/80\n",
            "3/3 [==============================] - 0s 18ms/step - loss: 0.0194 - val_loss: 0.0231\n",
            "Epoch 64/80\n",
            "3/3 [==============================] - 0s 23ms/step - loss: 0.0203 - val_loss: 0.0228\n",
            "Epoch 65/80\n",
            "3/3 [==============================] - 0s 20ms/step - loss: 0.0198 - val_loss: 0.0239\n",
            "Epoch 66/80\n",
            "3/3 [==============================] - 0s 21ms/step - loss: 0.0206 - val_loss: 0.0224\n",
            "Epoch 67/80\n",
            "3/3 [==============================] - 0s 18ms/step - loss: 0.0228 - val_loss: 0.0264\n",
            "Epoch 68/80\n",
            "3/3 [==============================] - 0s 18ms/step - loss: 0.0209 - val_loss: 0.0228\n",
            "Epoch 69/80\n",
            "3/3 [==============================] - 0s 19ms/step - loss: 0.0193 - val_loss: 0.0239\n",
            "Epoch 70/80\n",
            "3/3 [==============================] - 0s 27ms/step - loss: 0.0191 - val_loss: 0.0231\n",
            "Epoch 71/80\n",
            "3/3 [==============================] - 0s 27ms/step - loss: 0.0191 - val_loss: 0.0227\n",
            "Epoch 72/80\n",
            "3/3 [==============================] - 0s 26ms/step - loss: 0.0187 - val_loss: 0.0240\n",
            "Epoch 73/80\n",
            "3/3 [==============================] - 0s 27ms/step - loss: 0.0189 - val_loss: 0.0228\n",
            "Epoch 74/80\n",
            "3/3 [==============================] - 0s 18ms/step - loss: 0.0191 - val_loss: 0.0230\n",
            "Epoch 75/80\n",
            "3/3 [==============================] - 0s 28ms/step - loss: 0.0201 - val_loss: 0.0244\n",
            "Epoch 76/80\n",
            "3/3 [==============================] - 0s 27ms/step - loss: 0.0200 - val_loss: 0.0231\n",
            "Epoch 77/80\n",
            "3/3 [==============================] - 0s 25ms/step - loss: 0.0189 - val_loss: 0.0231\n",
            "Epoch 78/80\n",
            "3/3 [==============================] - 0s 23ms/step - loss: 0.0201 - val_loss: 0.0263\n",
            "Epoch 79/80\n",
            "3/3 [==============================] - 0s 26ms/step - loss: 0.0199 - val_loss: 0.0224\n",
            "Epoch 80/80\n",
            "3/3 [==============================] - 0s 21ms/step - loss: 0.0193 - val_loss: 0.0227\n"
          ]
        }
      ]
    },
    {
      "cell_type": "code",
      "source": [
        "import matplotlib.pyplot as plt\n",
        "plt.plot(r.history['loss'], label = 'loss')\n",
        "plt.plot(r.history['val_loss'],label='val_loss')\n",
        "plt.legend()"
      ],
      "metadata": {
        "colab": {
          "base_uri": "https://localhost:8080/",
          "height": 282
        },
        "id": "ej_MDqp4w43Y",
        "outputId": "8d15e981-9542-4686-9381-d4b2ec841c2c"
      },
      "execution_count": 23,
      "outputs": [
        {
          "output_type": "execute_result",
          "data": {
            "text/plain": [
              "<matplotlib.legend.Legend at 0x7f659e69a9d0>"
            ]
          },
          "metadata": {},
          "execution_count": 23
        },
        {
          "output_type": "display_data",
          "data": {
            "text/plain": [
              "<Figure size 432x288 with 1 Axes>"
            ],
            "image/png": "[encoded data removed]"
          },
          "metadata": {
            "needs_background": "light"
          }
        }
      ]
    },
    {
      "cell_type": "code",
      "source": [
        "validation_target = Y[-N//2:]\n",
        "validation_predictions =[]\n",
        "\n",
        "last_x = X[-N//2]\n",
        "\n",
        "while len(validation_predictions) < len(validation_target):\n",
        "  p= model.predict(last_x.reshape(1,-1,1))[0,0]\n",
        "  validation_predictions.append(p)\n",
        "  last_x= np.roll(last_x,-1)\n",
        "  last_x[-1] =p"
      ],
      "metadata": {
        "id": "oWaIsUjd6oeG"
      },
      "execution_count": 25,
      "outputs": []
    },
    {
      "cell_type": "code",
      "source": [
        "plt.plot(validation_target,label = 'forecast target')\n",
        "plt.plot(validation_predictions,label='forecast prediction')\n",
        "plt.legend()"
      ],
      "metadata": {
        "colab": {
          "base_uri": "https://localhost:8080/",
          "height": 282
        },
        "id": "mJyc4aX96uno",
        "outputId": "a2bcd500-32f8-41c5-99ba-bee2b1bedac9"
      },
      "execution_count": 26,
      "outputs": [
        {
          "output_type": "execute_result",
          "data": {
            "text/plain": [
              "<matplotlib.legend.Legend at 0x7f659e544b10>"
            ]
          },
          "metadata": {},
          "execution_count": 26
        },
        {
          "output_type": "display_data",
          "data": {
            "text/plain": [
              "<Figure size 432x288 with 1 Axes>"
            ],
            "image/png": "[encoded data removed]"
          },
          "metadata": {
            "needs_background": "light"
          }
        }
      ]
    }
  ]
}