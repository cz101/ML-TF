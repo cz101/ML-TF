{
  "nbformat": 4,
  "nbformat_minor": 0,
  "metadata": {
    "colab": {
      "name": "TF2.0 SimpleRNN Sine.ipynb",
      "provenance": [],
      "authorship_tag": "ABX9TyOZb02LLkRRROuceMys4Bep",
      "include_colab_link": true
    },
    "kernelspec": {
      "name": "python3",
      "display_name": "Python 3"
    },
    "language_info": {
      "name": "python"
    }
  },
  "cells": [
    {
      "cell_type": "markdown",
      "metadata": {
        "id": "view-in-github",
        "colab_type": "text"
      },
      "source": [
        "<a href=\"https://colab.research.google.com/github/cz101/ML-TF/blob/main/TF2_0_SimpleRNN_Sine.ipynb\" target=\"_parent\"><img src=\"https://colab.research.google.com/assets/colab-badge.svg\" alt=\"Open In Colab\"/></a>"
      ]
    },
    {
      "cell_type": "code",
      "execution_count": 1,
      "metadata": {
        "colab": {
          "base_uri": "https://localhost:8080/"
        },
        "id": "tkRpNs_24Olx",
        "outputId": "4a22fa11-e114-4eb0-aa6b-bbc0f32905ce"
      },
      "outputs": [
        {
          "output_type": "stream",
          "name": "stdout",
          "text": [
            "2.8.2\n"
          ]
        }
      ],
      "source": [
        "import tensorflow as tf \n",
        "print(tf.__version__)"
      ]
    },
    {
      "cell_type": "code",
      "source": [
        "import numpy as np\n",
        "import pandas as pd\n",
        "import matplotlib.pyplot as plt\n",
        "from tensorflow.keras.layers import  Input, Dense,SimpleRNN,Flatten\n",
        "from tensorflow.keras.models import Model\n",
        "from tensorflow.keras.optimizers import SGD, Adam"
      ],
      "metadata": {
        "id": "ji0G9DRT46K1"
      },
      "execution_count": 2,
      "outputs": []
    },
    {
      "cell_type": "code",
      "source": [
        "series = np.sin(0.1*np.arange(200)) #+np.random.randn(200)*0.1 \n",
        "plt.plot(series)\n",
        "plt.show()"
      ],
      "metadata": {
        "colab": {
          "base_uri": "https://localhost:8080/",
          "height": 265
        },
        "id": "YC5UkUeP5IYK",
        "outputId": "61ddefac-3420-4f6b-f0a7-d42a0387af8a"
      },
      "execution_count": 4,
      "outputs": [
        {
          "output_type": "display_data",
          "data": {
            "text/plain": [
              "<Figure size 432x288 with 1 Axes>"
            ],
            "image/png": "[encoded data removed]"
          },
          "metadata": {
            "needs_background": "light"
          }
        }
      ]
    },
    {
      "cell_type": "code",
      "source": [
        "#creating the data set\n",
        "T=10\n",
        "D=1\n",
        "X= []\n",
        "Y= []\n",
        "\n",
        "for t in range (len(series)-T):\n",
        "  x = series [t:t+T]\n",
        "  X.append(x)\n",
        "  y = series [t+T]\n",
        "  Y.append(y)\n",
        "X = np.array(X).reshape(-1,T,1) #The data set is N x D x T\n",
        "Y = np.array(Y)\n",
        "N = len(X)\n",
        "\n",
        "print(\"X shape\", X.shape, \"Y shape\", Y.shape)"
      ],
      "metadata": {
        "colab": {
          "base_uri": "https://localhost:8080/"
        },
        "id": "Y1a3fTr15LTw",
        "outputId": "3a535c3b-5f66-485d-9839-1a7263248abc"
      },
      "execution_count": 6,
      "outputs": [
        {
          "output_type": "stream",
          "name": "stdout",
          "text": [
            "X shape (190, 10, 1) Y shape (190,)\n"
          ]
        }
      ]
    },
    {
      "cell_type": "code",
      "source": [
        "#built the autogregressive RNN model\n",
        "i= Input(shape=(T,1))\n",
        "x=SimpleRNN(5,activation='relu')(i)\n",
        "x= Dense(1)(x)\n",
        "model = Model(i,x)\n",
        "model.compile(\n",
        "    loss = 'mse',\n",
        "    optimizer= Adam(lr=0.1),\n",
        ")\n",
        "r= model.fit(\n",
        "    X[: -N//2],Y[: -N//2],\n",
        "    epochs=80,\n",
        "    validation_data=(X[-N//2:],Y[-N//2:])\n",
        ")"
      ],
      "metadata": {
        "colab": {
          "base_uri": "https://localhost:8080/"
        },
        "id": "nqfmzatB5wXw",
        "outputId": "2155c51a-d3ef-4cc3-9ef3-45576906d4fb"
      },
      "execution_count": 7,
      "outputs": [
        {
          "output_type": "stream",
          "name": "stderr",
          "text": [
            "/usr/local/lib/python3.7/dist-packages/keras/optimizer_v2/adam.py:105: UserWarning: The `lr` argument is deprecated, use `learning_rate` instead.\n",
            "  super(Adam, self).__init__(name, **kwargs)\n"
          ]
        },
        {
          "output_type": "stream",
          "name": "stdout",
          "text": [
            "Epoch 1/80\n",
            "3/3 [==============================] - 1s 131ms/step - loss: 0.9924 - val_loss: 0.1970\n",
            "Epoch 2/80\n",
            "3/3 [==============================] - 0s 21ms/step - loss: 0.1181 - val_loss: 0.0446\n",
            "Epoch 3/80\n",
            "3/3 [==============================] - 0s 18ms/step - loss: 0.0505 - val_loss: 0.0784\n",
            "Epoch 4/80\n",
            "3/3 [==============================] - 0s 18ms/step - loss: 0.0535 - val_loss: 0.0367\n",
            "Epoch 5/80\n",
            "3/3 [==============================] - 0s 19ms/step - loss: 0.0416 - val_loss: 0.0285\n",
            "Epoch 6/80\n",
            "3/3 [==============================] - 0s 19ms/step - loss: 0.0327 - val_loss: 0.0292\n",
            "Epoch 7/80\n",
            "3/3 [==============================] - 0s 27ms/step - loss: 0.0243 - val_loss: 0.0159\n",
            "Epoch 8/80\n",
            "3/3 [==============================] - 0s 26ms/step - loss: 0.0160 - val_loss: 0.0077\n",
            "Epoch 9/80\n",
            "3/3 [==============================] - 0s 19ms/step - loss: 0.0159 - val_loss: 0.0120\n",
            "Epoch 10/80\n",
            "3/3 [==============================] - 0s 18ms/step - loss: 0.0125 - val_loss: 0.0069\n",
            "Epoch 11/80\n",
            "3/3 [==============================] - 0s 26ms/step - loss: 0.0076 - val_loss: 0.0138\n",
            "Epoch 12/80\n",
            "3/3 [==============================] - 0s 26ms/step - loss: 0.0084 - val_loss: 0.0042\n",
            "Epoch 13/80\n",
            "3/3 [==============================] - 0s 18ms/step - loss: 0.0043 - val_loss: 0.0051\n",
            "Epoch 14/80\n",
            "3/3 [==============================] - 0s 18ms/step - loss: 0.0048 - val_loss: 0.0049\n",
            "Epoch 15/80\n",
            "3/3 [==============================] - 0s 21ms/step - loss: 0.0039 - val_loss: 0.0030\n",
            "Epoch 16/80\n",
            "3/3 [==============================] - 0s 18ms/step - loss: 0.0037 - val_loss: 0.0025\n",
            "Epoch 17/80\n",
            "3/3 [==============================] - 0s 19ms/step - loss: 0.0029 - val_loss: 0.0033\n",
            "Epoch 18/80\n",
            "3/3 [==============================] - 0s 21ms/step - loss: 0.0023 - val_loss: 0.0020\n",
            "Epoch 19/80\n",
            "3/3 [==============================] - 0s 18ms/step - loss: 0.0018 - val_loss: 0.0019\n",
            "Epoch 20/80\n",
            "3/3 [==============================] - 0s 18ms/step - loss: 0.0015 - val_loss: 0.0011\n",
            "Epoch 21/80\n",
            "3/3 [==============================] - 0s 18ms/step - loss: 9.9931e-04 - val_loss: 7.9628e-04\n",
            "Epoch 22/80\n",
            "3/3 [==============================] - 0s 19ms/step - loss: 9.3821e-04 - val_loss: 8.1699e-04\n",
            "Epoch 23/80\n",
            "3/3 [==============================] - 0s 21ms/step - loss: 8.9546e-04 - val_loss: 6.8170e-04\n",
            "Epoch 24/80\n",
            "3/3 [==============================] - 0s 20ms/step - loss: 7.3350e-04 - val_loss: 9.7078e-04\n",
            "Epoch 25/80\n",
            "3/3 [==============================] - 0s 20ms/step - loss: 7.9525e-04 - val_loss: 7.1999e-04\n",
            "Epoch 26/80\n",
            "3/3 [==============================] - 0s 21ms/step - loss: 7.3834e-04 - val_loss: 7.0702e-04\n",
            "Epoch 27/80\n",
            "3/3 [==============================] - 0s 18ms/step - loss: 8.2033e-04 - val_loss: 7.6215e-04\n",
            "Epoch 28/80\n",
            "3/3 [==============================] - 0s 25ms/step - loss: 7.7033e-04 - val_loss: 6.8117e-04\n",
            "Epoch 29/80\n",
            "3/3 [==============================] - 0s 26ms/step - loss: 7.5021e-04 - val_loss: 9.2235e-04\n",
            "Epoch 30/80\n",
            "3/3 [==============================] - 0s 26ms/step - loss: 7.1877e-04 - val_loss: 6.0634e-04\n",
            "Epoch 31/80\n",
            "3/3 [==============================] - 0s 26ms/step - loss: 7.2993e-04 - val_loss: 6.9628e-04\n",
            "Epoch 32/80\n",
            "3/3 [==============================] - 0s 17ms/step - loss: 7.4521e-04 - val_loss: 6.2127e-04\n",
            "Epoch 33/80\n",
            "3/3 [==============================] - 0s 17ms/step - loss: 6.6313e-04 - val_loss: 5.4156e-04\n",
            "Epoch 34/80\n",
            "3/3 [==============================] - 0s 18ms/step - loss: 5.8855e-04 - val_loss: 5.9945e-04\n",
            "Epoch 35/80\n",
            "3/3 [==============================] - 0s 25ms/step - loss: 5.7160e-04 - val_loss: 5.2031e-04\n",
            "Epoch 36/80\n",
            "3/3 [==============================] - 0s 18ms/step - loss: 5.4686e-04 - val_loss: 5.7669e-04\n",
            "Epoch 37/80\n",
            "3/3 [==============================] - 0s 17ms/step - loss: 5.5013e-04 - val_loss: 4.6507e-04\n",
            "Epoch 38/80\n",
            "3/3 [==============================] - 0s 28ms/step - loss: 4.9501e-04 - val_loss: 5.5545e-04\n",
            "Epoch 39/80\n",
            "3/3 [==============================] - 0s 19ms/step - loss: 4.8636e-04 - val_loss: 4.6261e-04\n",
            "Epoch 40/80\n",
            "3/3 [==============================] - 0s 19ms/step - loss: 4.7915e-04 - val_loss: 4.3729e-04\n",
            "Epoch 41/80\n",
            "3/3 [==============================] - 0s 25ms/step - loss: 4.7593e-04 - val_loss: 4.5324e-04\n",
            "Epoch 42/80\n",
            "3/3 [==============================] - 0s 25ms/step - loss: 4.6235e-04 - val_loss: 4.6113e-04\n",
            "Epoch 43/80\n",
            "3/3 [==============================] - 0s 23ms/step - loss: 4.4642e-04 - val_loss: 4.2687e-04\n",
            "Epoch 44/80\n",
            "3/3 [==============================] - 0s 18ms/step - loss: 4.7672e-04 - val_loss: 4.2774e-04\n",
            "Epoch 45/80\n",
            "3/3 [==============================] - 0s 18ms/step - loss: 4.7964e-04 - val_loss: 5.2914e-04\n",
            "Epoch 46/80\n",
            "3/3 [==============================] - 0s 24ms/step - loss: 5.2219e-04 - val_loss: 3.8834e-04\n",
            "Epoch 47/80\n",
            "3/3 [==============================] - 0s 25ms/step - loss: 4.7593e-04 - val_loss: 4.1012e-04\n",
            "Epoch 48/80\n",
            "3/3 [==============================] - 0s 19ms/step - loss: 4.5765e-04 - val_loss: 4.2035e-04\n",
            "Epoch 49/80\n",
            "3/3 [==============================] - 0s 20ms/step - loss: 4.5959e-04 - val_loss: 4.3448e-04\n",
            "Epoch 50/80\n",
            "3/3 [==============================] - 0s 20ms/step - loss: 4.6782e-04 - val_loss: 3.8073e-04\n",
            "Epoch 51/80\n",
            "3/3 [==============================] - 0s 26ms/step - loss: 4.4167e-04 - val_loss: 4.6414e-04\n",
            "Epoch 52/80\n",
            "3/3 [==============================] - 0s 19ms/step - loss: 4.1033e-04 - val_loss: 3.8796e-04\n",
            "Epoch 53/80\n",
            "3/3 [==============================] - 0s 21ms/step - loss: 4.0093e-04 - val_loss: 3.6710e-04\n",
            "Epoch 54/80\n",
            "3/3 [==============================] - 0s 18ms/step - loss: 3.9360e-04 - val_loss: 4.1164e-04\n",
            "Epoch 55/80\n",
            "3/3 [==============================] - 0s 18ms/step - loss: 3.9689e-04 - val_loss: 3.5172e-04\n",
            "Epoch 56/80\n",
            "3/3 [==============================] - 0s 19ms/step - loss: 4.3806e-04 - val_loss: 4.1736e-04\n",
            "Epoch 57/80\n",
            "3/3 [==============================] - 0s 22ms/step - loss: 4.4721e-04 - val_loss: 3.7564e-04\n",
            "Epoch 58/80\n",
            "3/3 [==============================] - 0s 22ms/step - loss: 4.4506e-04 - val_loss: 4.6902e-04\n",
            "Epoch 59/80\n",
            "3/3 [==============================] - 0s 20ms/step - loss: 4.3622e-04 - val_loss: 3.8893e-04\n",
            "Epoch 60/80\n",
            "3/3 [==============================] - 0s 19ms/step - loss: 4.6517e-04 - val_loss: 4.7898e-04\n",
            "Epoch 61/80\n",
            "3/3 [==============================] - 0s 29ms/step - loss: 3.9807e-04 - val_loss: 3.2705e-04\n",
            "Epoch 62/80\n",
            "3/3 [==============================] - 0s 29ms/step - loss: 4.1180e-04 - val_loss: 3.0908e-04\n",
            "Epoch 63/80\n",
            "3/3 [==============================] - 0s 19ms/step - loss: 3.5341e-04 - val_loss: 3.1809e-04\n",
            "Epoch 64/80\n",
            "3/3 [==============================] - 0s 26ms/step - loss: 4.0444e-04 - val_loss: 2.9261e-04\n",
            "Epoch 65/80\n",
            "3/3 [==============================] - 0s 17ms/step - loss: 4.1105e-04 - val_loss: 3.6567e-04\n",
            "Epoch 66/80\n",
            "3/3 [==============================] - 0s 23ms/step - loss: 3.9402e-04 - val_loss: 3.2808e-04\n",
            "Epoch 67/80\n",
            "3/3 [==============================] - 0s 18ms/step - loss: 3.5938e-04 - val_loss: 2.9994e-04\n",
            "Epoch 68/80\n",
            "3/3 [==============================] - 0s 26ms/step - loss: 3.4472e-04 - val_loss: 2.7609e-04\n",
            "Epoch 69/80\n",
            "3/3 [==============================] - 0s 20ms/step - loss: 3.8242e-04 - val_loss: 2.5141e-04\n",
            "Epoch 70/80\n",
            "3/3 [==============================] - 0s 19ms/step - loss: 3.3418e-04 - val_loss: 2.8215e-04\n",
            "Epoch 71/80\n",
            "3/3 [==============================] - 0s 19ms/step - loss: 3.4680e-04 - val_loss: 3.0818e-04\n",
            "Epoch 72/80\n",
            "3/3 [==============================] - 0s 19ms/step - loss: 4.0830e-04 - val_loss: 3.5105e-04\n",
            "Epoch 73/80\n",
            "3/3 [==============================] - 0s 18ms/step - loss: 3.8289e-04 - val_loss: 2.7526e-04\n",
            "Epoch 74/80\n",
            "3/3 [==============================] - 0s 18ms/step - loss: 3.8655e-04 - val_loss: 2.7725e-04\n",
            "Epoch 75/80\n",
            "3/3 [==============================] - 0s 18ms/step - loss: 3.4090e-04 - val_loss: 2.9320e-04\n",
            "Epoch 76/80\n",
            "3/3 [==============================] - 0s 20ms/step - loss: 3.0956e-04 - val_loss: 2.5377e-04\n",
            "Epoch 77/80\n",
            "3/3 [==============================] - 0s 18ms/step - loss: 3.0469e-04 - val_loss: 2.5746e-04\n",
            "Epoch 78/80\n",
            "3/3 [==============================] - 0s 19ms/step - loss: 3.2365e-04 - val_loss: 2.1792e-04\n",
            "Epoch 79/80\n",
            "3/3 [==============================] - 0s 24ms/step - loss: 3.2286e-04 - val_loss: 2.6249e-04\n",
            "Epoch 80/80\n",
            "3/3 [==============================] - 0s 18ms/step - loss: 2.8729e-04 - val_loss: 2.0530e-04\n"
          ]
        }
      ]
    },
    {
      "cell_type": "code",
      "source": [
        "import matplotlib.pyplot as plt\n",
        "plt.plot(r.history['loss'], label = 'loss')\n",
        "plt.plot(r.history['val_loss'],label='val_loss')\n",
        "plt.legend()"
      ],
      "metadata": {
        "colab": {
          "base_uri": "https://localhost:8080/",
          "height": 282
        },
        "id": "ej_MDqp4w43Y",
        "outputId": "82a14b1e-56e9-4d7d-d6b6-19d58f1b6dea"
      },
      "execution_count": 8,
      "outputs": [
        {
          "output_type": "execute_result",
          "data": {
            "text/plain": [
              "<matplotlib.legend.Legend at 0x7f65a21a6e10>"
            ]
          },
          "metadata": {},
          "execution_count": 8
        },
        {
          "output_type": "display_data",
          "data": {
            "text/plain": [
              "<Figure size 432x288 with 1 Axes>"
            ],
            "image/png": "[encoded data removed]"
          },
          "metadata": {
            "needs_background": "light"
          }
        }
      ]
    },
    {
      "cell_type": "code",
      "source": [
        "validation_target = Y[-N//2:]\n",
        "validation_predictions =[]\n",
        "\n",
        "last_x = X[-N//2]\n",
        "\n",
        "while len(validation_predictions) < len(validation_target):\n",
        "  p= model.predict(last_x.reshape(1,-1))[0,0]\n",
        "  validation_predictions.append(p)\n",
        "  last_x= np.roll(last_x,-1)\n",
        "  last_x[-1] =p"
      ],
      "metadata": {
        "id": "oWaIsUjd6oeG"
      },
      "execution_count": 9,
      "outputs": []
    },
    {
      "cell_type": "code",
      "source": [
        "plt.plot(validation_target,label = 'forecast target')\n",
        "plt.plot(validation_predictions,label='forecast prediction')\n",
        "plt.legend()"
      ],
      "metadata": {
        "colab": {
          "base_uri": "https://localhost:8080/",
          "height": 282
        },
        "id": "mJyc4aX96uno",
        "outputId": "438538eb-63e0-41a9-8b90-dfd3d2f923a2"
      },
      "execution_count": 10,
      "outputs": [
        {
          "output_type": "execute_result",
          "data": {
            "text/plain": [
              "<matplotlib.legend.Legend at 0x7f65a1f8d350>"
            ]
          },
          "metadata": {},
          "execution_count": 10
        },
        {
          "output_type": "display_data",
          "data": {
            "text/plain": [
              "<Figure size 432x288 with 1 Axes>"
            ],
            "image/png": "[encoded data removed]"
          },
          "metadata": {
            "needs_background": "light"
          }
        }
      ]
    }
  ]
}