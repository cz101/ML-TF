{
  "nbformat": 4,
  "nbformat_minor": 0,
  "metadata": {
    "colab": {
      "name": "TF2.CIFAR improved.ipynb",
      "provenance": [],
      "authorship_tag": "ABX9TyMYMtIRd0NwctWM/A8SZ0vu",
      "include_colab_link": true
    },
    "kernelspec": {
      "name": "python3",
      "display_name": "Python 3"
    },
    "language_info": {
      "name": "python"
    },
    "accelerator": "GPU",
    "gpuClass": "standard"
  },
  "cells": [
    {
      "cell_type": "markdown",
      "metadata": {
        "id": "view-in-github",
        "colab_type": "text"
      },
      "source": [
        "<a href=\"https://colab.research.google.com/github/cz101/ML-TF/blob/main/TF2_CIFAR_improved.ipynb\" target=\"_parent\"><img src=\"https://colab.research.google.com/assets/colab-badge.svg\" alt=\"Open In Colab\"/></a>"
      ]
    },
    {
      "cell_type": "code",
      "execution_count": 3,
      "metadata": {
        "colab": {
          "base_uri": "https://localhost:8080/"
        },
        "id": "gTbOWVYeruB9",
        "outputId": "07169eb9-21f8-4298-a84a-946cb9edbc4c"
      },
      "outputs": [
        {
          "output_type": "stream",
          "name": "stdout",
          "text": [
            "2.8.2\n"
          ]
        }
      ],
      "source": [
        "import tensorflow as tf \n",
        "print(tf.__version__)"
      ]
    },
    {
      "cell_type": "code",
      "source": [
        "import numpy as np\n",
        "import matplotlib.pyplot as plt\n",
        "from tensorflow.keras.layers import  Input, Conv2D, Flatten, Dense, Dropout,GlobalMaxPooling2D,MaxPooling2D,BatchNormalization\n",
        "from tensorflow.keras.models import Model"
      ],
      "metadata": {
        "id": "EmE1a6A9r47X"
      },
      "execution_count": 4,
      "outputs": []
    },
    {
      "cell_type": "code",
      "source": [
        "cifar_mnist = tf.keras.datasets.cifar10 # 10 classes\n",
        "(x_train,y_train),(x_test ,y_test) = cifar_mnist.load_data()\n",
        "x_train,x_test = x_train/255.0 , x_test/255.0\n",
        "y_train,_test = y_train.flatten(),y_test.flatten()\n",
        "print(\"x_train.shape\", x_train.shape)\n",
        "print(\"y_train.shape\",y_train.shape)"
      ],
      "metadata": {
        "colab": {
          "base_uri": "https://localhost:8080/"
        },
        "id": "fjKFRnDVsF0B",
        "outputId": "81d2f5e1-60c3-4644-e499-6402c730b433"
      },
      "execution_count": 5,
      "outputs": [
        {
          "output_type": "stream",
          "name": "stdout",
          "text": [
            "Downloading data from https://www.cs.toronto.edu/~kriz/cifar-10-python.tar.gz\n",
            "170500096/170498071 [==============================] - 15s 0us/step\n",
            "170508288/170498071 [==============================] - 15s 0us/step\n",
            "x_train.shape (50000, 32, 32, 3)\n",
            "y_train.shape (50000,)\n"
          ]
        }
      ]
    },
    {
      "cell_type": "code",
      "source": [
        "K= len(set(y_train))\n",
        "print(\"number of calsses :\",K)"
      ],
      "metadata": {
        "colab": {
          "base_uri": "https://localhost:8080/"
        },
        "id": "5i_ER4S4sQ8a",
        "outputId": "008ad9c1-d353-4b27-a841-8784acb2a150"
      },
      "execution_count": 6,
      "outputs": [
        {
          "output_type": "stream",
          "name": "stdout",
          "text": [
            "number of calsses : 10\n"
          ]
        }
      ]
    },
    {
      "cell_type": "code",
      "source": [
        "from threading import active_count\n",
        "i = Input(shape=x_train[0].shape)\n",
        "# x = Conv2D(32,(3,3), strides=2 ,activation='relu')(i)\n",
        "# x = Conv2D(64,(3,3), strides=2 ,activation='relu')(x)\n",
        "# x = Conv2D(128,(3,3), strides=2 ,activation='relu')(x)\n",
        "x = Conv2D(32,(3,3), activation='relu',padding=\"same\")(i)\n",
        "x = BatchNormalization()(x)\n",
        "x = Conv2D(32,(3,3), activation='relu',padding=\"same\")(x)\n",
        "x = BatchNormalization()(x)\n",
        "x = MaxPooling2D((2,2))(x)\n",
        "\n",
        "x = Conv2D(64,(3,3), activation='relu',padding=\"same\")(x)\n",
        "x = BatchNormalization()(x)\n",
        "x = Conv2D(64,(3,3), activation='relu',padding=\"same\")(x)\n",
        "x = BatchNormalization()(x)\n",
        "x = MaxPooling2D((2,2))(x)\n",
        "\n",
        "x = Conv2D(128,(3,3), activation='relu',padding=\"same\")(x)\n",
        "x = BatchNormalization()(x)\n",
        "x = Conv2D(128,(3,3), activation='relu',padding=\"same\")(x)\n",
        "x = BatchNormalization()(x)\n",
        "x = MaxPooling2D((2,2))(x)\n",
        "\n",
        "x = Flatten()(x)\n",
        "#x = Dropout(0.2)(x)\n",
        "x = Dense(1024,activation='relu')(x)\n",
        "#x = Dropout(0.2)(x)\n",
        "x = Dense(K,activation='softmax')(x)\n",
        "\n",
        "model = Model(i,x)"
      ],
      "metadata": {
        "id": "SAaBKs-0sUaj"
      },
      "execution_count": 7,
      "outputs": []
    },
    {
      "cell_type": "code",
      "source": [
        "model.compile(optimizer='adam',\n",
        "              loss='sparse_categorical_crossentropy',\n",
        "              metrics=['accuracy'])\n",
        "r = model.fit(x_train,y_train,validation_data=(x_test,y_test),epochs=15)"
      ],
      "metadata": {
        "colab": {
          "base_uri": "https://localhost:8080/"
        },
        "id": "4xcUlD_pwboW",
        "outputId": "915bfb8a-d7d1-4405-bc9b-cf357b794bca"
      },
      "execution_count": 8,
      "outputs": [
        {
          "output_type": "stream",
          "name": "stdout",
          "text": [
            "Epoch 1/15\n",
            "1563/1563 [==============================] - 22s 7ms/step - loss: 1.1987 - accuracy: 0.5830 - val_loss: 0.9427 - val_accuracy: 0.6604\n",
            "Epoch 2/15\n",
            "1563/1563 [==============================] - 10s 7ms/step - loss: 0.7410 - accuracy: 0.7424 - val_loss: 0.7728 - val_accuracy: 0.7340\n",
            "Epoch 3/15\n",
            "1563/1563 [==============================] - 11s 7ms/step - loss: 0.5835 - accuracy: 0.7966 - val_loss: 0.6930 - val_accuracy: 0.7712\n",
            "Epoch 4/15\n",
            "1563/1563 [==============================] - 11s 7ms/step - loss: 0.4611 - accuracy: 0.8388 - val_loss: 0.6926 - val_accuracy: 0.7783\n",
            "Epoch 5/15\n",
            "1563/1563 [==============================] - 11s 7ms/step - loss: 0.3503 - accuracy: 0.8776 - val_loss: 0.6855 - val_accuracy: 0.7973\n",
            "Epoch 6/15\n",
            "1563/1563 [==============================] - 11s 7ms/step - loss: 0.2600 - accuracy: 0.9081 - val_loss: 0.7344 - val_accuracy: 0.7996\n",
            "Epoch 7/15\n",
            "1563/1563 [==============================] - 10s 7ms/step - loss: 0.1882 - accuracy: 0.9350 - val_loss: 0.8473 - val_accuracy: 0.7918\n",
            "Epoch 8/15\n",
            "1563/1563 [==============================] - 10s 7ms/step - loss: 0.1533 - accuracy: 0.9470 - val_loss: 0.9744 - val_accuracy: 0.7885\n",
            "Epoch 9/15\n",
            "1563/1563 [==============================] - 11s 7ms/step - loss: 0.1268 - accuracy: 0.9569 - val_loss: 0.8966 - val_accuracy: 0.8033\n",
            "Epoch 10/15\n",
            "1563/1563 [==============================] - 10s 7ms/step - loss: 0.1094 - accuracy: 0.9636 - val_loss: 0.8664 - val_accuracy: 0.7965\n",
            "Epoch 11/15\n",
            "1563/1563 [==============================] - 11s 7ms/step - loss: 0.0963 - accuracy: 0.9671 - val_loss: 0.9166 - val_accuracy: 0.8141\n",
            "Epoch 12/15\n",
            "1563/1563 [==============================] - 11s 7ms/step - loss: 0.0880 - accuracy: 0.9710 - val_loss: 0.9969 - val_accuracy: 0.8120\n",
            "Epoch 13/15\n",
            "1563/1563 [==============================] - 10s 7ms/step - loss: 0.0799 - accuracy: 0.9734 - val_loss: 0.9714 - val_accuracy: 0.8074\n",
            "Epoch 14/15\n",
            "1563/1563 [==============================] - 10s 7ms/step - loss: 0.0780 - accuracy: 0.9743 - val_loss: 1.2090 - val_accuracy: 0.7766\n",
            "Epoch 15/15\n",
            "1563/1563 [==============================] - 10s 7ms/step - loss: 0.0698 - accuracy: 0.9772 - val_loss: 1.1020 - val_accuracy: 0.7958\n"
          ]
        }
      ]
    },
    {
      "cell_type": "code",
      "source": [
        "import matplotlib.pyplot as plt\n",
        "plt.plot(r.history['loss'], label = 'loss')\n",
        "plt.plot(r.history['val_loss'],label='val_loss')\n",
        "plt.legend()"
      ],
      "metadata": {
        "colab": {
          "base_uri": "https://localhost:8080/",
          "height": 222
        },
        "id": "VQTuMdIoIGCW",
        "outputId": "236ebb4f-b2c9-456b-caab-170552632f56"
      },
      "execution_count": 1,
      "outputs": [
        {
          "output_type": "error",
          "ename": "NameError",
          "evalue": "ignored",
          "traceback": [
            "\u001b[0;31m---------------------------------------------------------------------------\u001b[0m",
            "\u001b[0;31mNameError\u001b[0m                                 Traceback (most recent call last)",
            "\u001b[0;32m<ipython-input-1-dab20716f5f1>\u001b[0m in \u001b[0;36m<module>\u001b[0;34m()\u001b[0m\n\u001b[1;32m      1\u001b[0m \u001b[0;32mimport\u001b[0m \u001b[0mmatplotlib\u001b[0m\u001b[0;34m.\u001b[0m\u001b[0mpyplot\u001b[0m \u001b[0;32mas\u001b[0m \u001b[0mplt\u001b[0m\u001b[0;34m\u001b[0m\u001b[0;34m\u001b[0m\u001b[0m\n\u001b[0;32m----> 2\u001b[0;31m \u001b[0mplt\u001b[0m\u001b[0;34m.\u001b[0m\u001b[0mplot\u001b[0m\u001b[0;34m(\u001b[0m\u001b[0mr\u001b[0m\u001b[0;34m.\u001b[0m\u001b[0mhistory\u001b[0m\u001b[0;34m[\u001b[0m\u001b[0;34m'loss'\u001b[0m\u001b[0;34m]\u001b[0m\u001b[0;34m,\u001b[0m \u001b[0mlabel\u001b[0m \u001b[0;34m=\u001b[0m \u001b[0;34m'loss'\u001b[0m\u001b[0;34m)\u001b[0m\u001b[0;34m\u001b[0m\u001b[0;34m\u001b[0m\u001b[0m\n\u001b[0m\u001b[1;32m      3\u001b[0m \u001b[0mplt\u001b[0m\u001b[0;34m.\u001b[0m\u001b[0mplot\u001b[0m\u001b[0;34m(\u001b[0m\u001b[0mr\u001b[0m\u001b[0;34m.\u001b[0m\u001b[0mhistory\u001b[0m\u001b[0;34m[\u001b[0m\u001b[0;34m'val_loss'\u001b[0m\u001b[0;34m]\u001b[0m\u001b[0;34m,\u001b[0m\u001b[0mlabel\u001b[0m\u001b[0;34m=\u001b[0m\u001b[0;34m'val_loss'\u001b[0m\u001b[0;34m)\u001b[0m\u001b[0;34m\u001b[0m\u001b[0;34m\u001b[0m\u001b[0m\n\u001b[1;32m      4\u001b[0m \u001b[0mplt\u001b[0m\u001b[0;34m.\u001b[0m\u001b[0mlegend\u001b[0m\u001b[0;34m(\u001b[0m\u001b[0;34m)\u001b[0m\u001b[0;34m\u001b[0m\u001b[0;34m\u001b[0m\u001b[0m\n",
            "\u001b[0;31mNameError\u001b[0m: name 'r' is not defined"
          ]
        }
      ]
    }
  ]
}